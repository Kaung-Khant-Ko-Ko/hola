{
  "nbformat": 4,
  "nbformat_minor": 0,
  "metadata": {
    "colab": {
      "provenance": []
    },
    "kernelspec": {
      "name": "python3",
      "display_name": "Python 3"
    },
    "language_info": {
      "name": "python"
    }
  },
  "cells": [
    {
      "cell_type": "code",
      "execution_count": null,
      "metadata": {
        "colab": {
          "base_uri": "https://localhost:8080/"
        },
        "id": "TGFMpnPG1EDF",
        "outputId": "e8d28d63-8e05-4356-d37b-efd3b2c19e1d"
      },
      "outputs": [
        {
          "output_type": "stream",
          "name": "stdout",
          "text": [
            "Looking in indexes: https://pypi.org/simple, https://us-python.pkg.dev/colab-wheels/public/simple/\n",
            "Collecting wikipedia\n",
            "  Downloading wikipedia-1.4.0.tar.gz (27 kB)\n",
            "  Preparing metadata (setup.py) ... \u001b[?25l\u001b[?25hdone\n",
            "Requirement already satisfied: beautifulsoup4 in /usr/local/lib/python3.10/dist-packages (from wikipedia) (4.11.2)\n",
            "Requirement already satisfied: requests<3.0.0,>=2.0.0 in /usr/local/lib/python3.10/dist-packages (from wikipedia) (2.27.1)\n",
            "Requirement already satisfied: urllib3<1.27,>=1.21.1 in /usr/local/lib/python3.10/dist-packages (from requests<3.0.0,>=2.0.0->wikipedia) (1.26.15)\n",
            "Requirement already satisfied: certifi>=2017.4.17 in /usr/local/lib/python3.10/dist-packages (from requests<3.0.0,>=2.0.0->wikipedia) (2022.12.7)\n",
            "Requirement already satisfied: charset-normalizer~=2.0.0 in /usr/local/lib/python3.10/dist-packages (from requests<3.0.0,>=2.0.0->wikipedia) (2.0.12)\n",
            "Requirement already satisfied: idna<4,>=2.5 in /usr/local/lib/python3.10/dist-packages (from requests<3.0.0,>=2.0.0->wikipedia) (3.4)\n",
            "Requirement already satisfied: soupsieve>1.2 in /usr/local/lib/python3.10/dist-packages (from beautifulsoup4->wikipedia) (2.4.1)\n",
            "Building wheels for collected packages: wikipedia\n",
            "  Building wheel for wikipedia (setup.py) ... \u001b[?25l\u001b[?25hdone\n",
            "  Created wheel for wikipedia: filename=wikipedia-1.4.0-py3-none-any.whl size=11680 sha256=816ceafddb6cb25fc84d993cafc0e6b1bc5a41503d0d3fd3c5a5b6f319dbc2bf\n",
            "  Stored in directory: /root/.cache/pip/wheels/5e/b6/c5/93f3dec388ae76edc830cb42901bb0232504dfc0df02fc50de\n",
            "Successfully built wikipedia\n",
            "Installing collected packages: wikipedia\n",
            "Successfully installed wikipedia-1.4.0\n"
          ]
        }
      ],
      "source": [
        "pip install wikipedia"
      ]
    },
    {
      "cell_type": "code",
      "source": [
        "import wikipedia\n",
        "import re\n",
        "import pandas as pd"
      ],
      "metadata": {
        "id": "0kfFZKUA1Vj-"
      },
      "execution_count": null,
      "outputs": []
    },
    {
      "cell_type": "markdown",
      "source": [
        "# **Testing Sentence Extraction**"
      ],
      "metadata": {
        "id": "Yh92tEdWTIoi"
      }
    },
    {
      "cell_type": "code",
      "source": [
        "wikipedia.set_lang(\"zh\")"
      ],
      "metadata": {
        "id": "H1k5QuVzVa9K"
      },
      "execution_count": null,
      "outputs": []
    },
    {
      "cell_type": "code",
      "source": [
        "test_result = wikipedia.search(\"澳大利亚历史\")\n",
        "print(test_result)"
      ],
      "metadata": {
        "colab": {
          "base_uri": "https://localhost:8080/"
        },
        "id": "SqqAFAEy3nBg",
        "outputId": "8907ffe7-1aa5-46c0-f1b5-687d54f07f7b"
      },
      "execution_count": null,
      "outputs": [
        {
          "output_type": "stream",
          "name": "stdout",
          "text": [
            "['澳大利亚历史', '澳大利亚移民史', '澳大利亚共产党', '澳大利亚自由党', '澳大利亚时报', '澳大利亚总督', '南澳大利亚州', '澳大利亚元', '中国驻澳大利亚大使列表', '澳大利亚行政区划']\n"
          ]
        }
      ]
    },
    {
      "cell_type": "code",
      "source": [
        "test_content_orig = wikipedia.page(test_result[0]).content"
      ],
      "metadata": {
        "id": "q3uq71BM16Y3"
      },
      "execution_count": null,
      "outputs": []
    },
    {
      "cell_type": "code",
      "source": [
        "test_content_orig"
      ],
      "metadata": {
        "colab": {
          "base_uri": "https://localhost:8080/",
          "height": 196
        },
        "id": "cu7oeXGF4Qws",
        "outputId": "7b562d9e-60b5-4ca8-b3f9-25a64b172d6c"
      },
      "execution_count": null,
      "outputs": [
        {
          "output_type": "execute_result",
          "data": {
            "text/plain": [
              "'澳大利亚历史是从距今40,000至70,000年前人类第一次在澳洲大陆北岸定居开始的。这段时间被定义为澳大利亚史前时期。有文字记载的澳大利亚历史开始于欧洲探险家第一次达到这片土地。这段时期又分为两个阶段：这两个阶段以1901年成为大英帝国领地前后为分界点。\\n\\n\\n== 史前时期 ==\\n从人類到达澳洲后，至欧洲人於1606年第一次踏足澳洲期间的大约四万年，被称为澳大利亚史前时期。把这段时期归为史前而非历史是因为1606年以前，澳大利亚没有人類生活的文字记载。\\n\\n\\n== 航海大發現時期(1606至1788年) ==\\n尽管有葡萄牙人发现澳洲的相关理论，但是这个仍缺少相关证据。第一次有书面记载的欧洲人登陆澳洲发生在1606年，由荷兰导航员威廉·揚松的Duyfken号船第一次在卡奔塔利亚湾航行，并\\n於约克角半岛在西岸第一次登陆。同年，西班牙航海家Pedro Fernández de Quiros在新赫布里底登陆，他们认为此地即为寓言故事中的南方大洲，所以以“Austrialia del Espiritu Santo”（神圣灵魂的南方大洲）命名，来纪念西班牙菲利普三世的妻子奥地利女皇玛格丽特。\\n17世纪早期，其他欧洲国家探险家（大部分来自荷兰、法国、英国）相继来到澳洲。\\n18世纪初，“新荷兰”的西岸和北岸被绘于地图。可是，当时并没有人尝试在这里定居。18世纪中叶，库克船长绕行澳大利亚。1768年，英国庫克船長乘坐「奮進號」從英國出發前往大溪地。1770年，庫克船長發現澳洲東部，並佔領及命名為大英。並绕行澳大利亚。\\n\\n\\n== 英屬新南威爾斯時期 ==\\n1788年1月26日（澳大利亞日），英国殖民者在澳大利亚东南建立第一个殖民地「新南威爾斯」，为英國本土犯人的流放地。1797年，麥卡瑟(J. Macarthur)由好望角將美麗諾羊（Merino sheep）引進澳洲。\\n1804年，霍巴特城建立。1813年，首次引進貨幣 - 有孔錢幣及銀幣（dump）。\\n\\n\\n== 西澳淪為囚犯流放地時期(1828年至1901年) ==\\n1829年，西澳被吞併，成為囚犯流放地。1851年，新南威爾斯的貝瑟斯特及維多利亞州的柏拉瑞特發現金礦。1862年，史都特（John Stuart）成為第一位穿越澳洲南至北的探險家。1868年，最後一批囚犯被運送至西澳。\\n1873年，歐洲人首次見到烏魯汝，Uluru（Ayres Rock，愛麗斯岩）。\\n在经过长达10年的計畫，讨论，投票后，1901年1月1日组成了第一个隶属于英国的澳洲聯邦（Commonwealth of Australia）。\\n\\n\\n== 英屬自治領時期 ==\\n\\n\\n=== 墨爾本首府時期 ===\\n1901年1月1日，几个英国的殖民地组成了第一个隶属于英国的澳洲聯邦（Commonwealth of Australia），白澳政策及移民限制法被通過。1914年至1918年，澳洲參與第一次世界大戰。1920年，澳洲航空公司（Qantas）國內航線成立。1921年，伊迪斯科文（Edith Dircksey Cowan）成為澳洲首位女性國會議員。1927年前，澳大利亚的首都是墨尔本。\\n\\n\\n=== 坎培拉首府時期 ===\\n1927年，墨爾本與悉尼相爭首都地位，經協議後遷往折衷點堪培拉。同年，第一次澳洲聯邦會議於坎培拉臨時國會大廈舉行。\\n澳大利亚在兩次世界大战中跟英国並肩作战。二次大战以后，大規模的移民计划让澳大利亚产生了很大的改变。在澳大利亚政府的白澳政策被废除后（1972年），很多亚洲及世界各地的人移民到至澳大利亚，改变了澳大利亚的人口组成、文化和形象。\\n1931年，英国颁布的《1931年西敏法規》基本让澳大利亚联邦有權拥有独立主權。1932年，雪梨海港大橋啟用。1933年，西澳公投表決脫離英國獨立，但遭國會否決。\\n1939年至1945年，澳洲參加第二次世界大戰。1940年，第一輛澳洲製造的汽車面世。\\n\\n\\n== 逐漸脫離英国 ==\\n1942年，澳大利亚联邦正式采纳1931年公布的西敏法令。但由于澳大利亚受到大日本帝國的潜在威胁和英国在亚洲节节败退，让澳大利亚的外交政策开始转向與美国友好。\\n1948年，霍頓（Holden）為第一輛完全澳洲自製汽車。\\n1951年，澳大利亚成为美国的正式盟友，并签订美澳新条约 (ANZUS)。\\n1956年，舉辦墨爾本奧運。\\n1966年澳洲推行十進制，貨幣亦同時改作十進制。當時一美元的價值大概等於半英鎊，新的十進制通貨改為與美元連動。貨幣名稱由澳大利亞鎊改為澳洲元。\\n1967年經過公投後，通過廢除歧視原住民的法律。1973年雪梨歌劇院啟用。\\n1972年大选，工党執政后，越来越多澳大利亚国民认为，未来他们的国家會更融入亚洲。\\n1984年，《前進澳洲美之國》成為澳洲國歌。兩年，澳大利亚宣佈澳洲法案（Australia Act），正式徹底脫離英國獨立，英国的当时最高法院－枢密院司法委员会从此不再是澳大利亚的终审法院。但作為君主立宪制国家，伊丽莎白二世女王仍然保留澳大利亚女王的身分。\\n\\n\\n== 主權完整國家 ==\\n1988年，澳洲开埠200週年，当年國慶日－坎培拉新國會大廈啟用。\\n1996年，約翰·霍華德當選第25任澳大利亚總理，結束了13年的工党主政。屬「保王派」的於他1999年舉行了提議國體转变为议会制共和国的全民公投，並遭否決。現時當地共識是：只要女王仍在位，澳大利亞不会成為共和国。翌年，悉尼主辦奧林匹克運動會。\\n於2007年12月结束保守派联盟12年主政的工党领袖陆克文，出任第26任聯邦總理。他於2008年代表澳大利亚政府，向澳大利亚原住民正式道歉。\\n2008年，經陸克文提名，昆廷·布賴斯就任澳洲首位女總督。2010年，原任陆克文副手的朱莉亞·吉拉德取代前者成为总理和工党领袖。她是迄今唯一一名曾任正、副總理和主要政黨黨魁的女性。\\n\\n\\n== 参考文献 ==\\n\\n\\n== 外部链接 ==\\n\\n\\n== 参见 ==\\n澳大利亚领土变迁\\n澳大利亚行政区划\\n白澳政策\\n失竊的一代'"
            ],
            "application/vnd.google.colaboratory.intrinsic+json": {
              "type": "string"
            }
          },
          "metadata": {},
          "execution_count": 6
        }
      ]
    },
    {
      "cell_type": "code",
      "source": [
        "test_content = test_content_orig.split(\"附錄\")[0]\n",
        "test_content = test_content.split(\"注釋\")[0]\n",
        "test_content = test_content.split(\"參見\")[0]\n",
        "test_content = test_content.split(\"参见\")[0]\n",
        "test_content = test_content.split(\"参考文献\")[0]\n",
        "test_st = re.sub(r\"==.*?==+\", \"\", test_content)\n",
        "test_st = re.sub(\"(#|/|\\?|\\\\n|\\\\t)\", \"\", test_st)"
      ],
      "metadata": {
        "id": "KMesjL_tWKbz"
      },
      "execution_count": null,
      "outputs": []
    },
    {
      "cell_type": "code",
      "source": [
        "test_st[-10:]"
      ],
      "metadata": {
        "colab": {
          "base_uri": "https://localhost:8080/",
          "height": 35
        },
        "id": "XiRouLD2LbhL",
        "outputId": "b2f1c87c-21b5-41fd-cac2-ee88a40e6987"
      },
      "execution_count": null,
      "outputs": [
        {
          "output_type": "execute_result",
          "data": {
            "text/plain": [
              "'黨黨魁的女性。== '"
            ],
            "application/vnd.google.colaboratory.intrinsic+json": {
              "type": "string"
            }
          },
          "metadata": {},
          "execution_count": 8
        }
      ]
    },
    {
      "cell_type": "code",
      "source": [
        "test_li = test_st.split(\"。\")"
      ],
      "metadata": {
        "id": "ViBf86xMEbYp"
      },
      "execution_count": null,
      "outputs": []
    },
    {
      "cell_type": "code",
      "source": [
        "test_li[-10:]"
      ],
      "metadata": {
        "colab": {
          "base_uri": "https://localhost:8080/"
        },
        "id": "e6urPjHKGk5K",
        "outputId": "d2c65151-ddc2-4602-b09b-42dfbf1b2182"
      },
      "execution_count": null,
      "outputs": [
        {
          "output_type": "execute_result",
          "data": {
            "text/plain": [
              "['1996年，約翰·霍華德當選第25任澳大利亚總理，結束了13年的工党主政',\n",
              " '屬「保王派」的於他1999年舉行了提議國體转变为议会制共和国的全民公投，並遭否決',\n",
              " '現時當地共識是：只要女王仍在位，澳大利亞不会成為共和国',\n",
              " '翌年，悉尼主辦奧林匹克運動會',\n",
              " '於2007年12月结束保守派联盟12年主政的工党领袖陆克文，出任第26任聯邦總理',\n",
              " '他於2008年代表澳大利亚政府，向澳大利亚原住民正式道歉',\n",
              " '2008年，經陸克文提名，昆廷·布賴斯就任澳洲首位女總督',\n",
              " '2010年，原任陆克文副手的朱莉亞·吉拉德取代前者成为总理和工党领袖',\n",
              " '她是迄今唯一一名曾任正、副總理和主要政黨黨魁的女性',\n",
              " '== ']"
            ]
          },
          "metadata": {},
          "execution_count": 10
        }
      ]
    },
    {
      "cell_type": "code",
      "source": [
        "len(test_li)"
      ],
      "metadata": {
        "colab": {
          "base_uri": "https://localhost:8080/"
        },
        "id": "n1QmJxlHHNg6",
        "outputId": "13c8c610-9dcc-4431-9a5e-f882510c8062"
      },
      "execution_count": null,
      "outputs": [
        {
          "output_type": "execute_result",
          "data": {
            "text/plain": [
              "66"
            ]
          },
          "metadata": {},
          "execution_count": 11
        }
      ]
    },
    {
      "cell_type": "markdown",
      "source": [
        "# **Collecting Data**"
      ],
      "metadata": {
        "id": "0xomkl2WArqV"
      }
    },
    {
      "cell_type": "code",
      "source": [
        "topics = [\"人類演化\", \"物理学史\", \"日本历史\", \"中国历史\", \"德国历史\", \"大韓民國歷史\", \"第二次世界大战\", \"第一次世界大战\", \"法國歷史\", \"越南歷史\", \"印度尼西亚\", \"马来西亚历史\", \"菲律宾历史\", \"缅甸历史\", \"柬埔寨保护国\", \"汶萊歷史\", \"新加坡历史\", \"聯合王國歷史\", \"美国历史\", \"加拿大歷史\", \"澳大利亚历史\", \"西班牙歷史\", \"阿根廷历史\", \"地球\", \"月球\", \"古埃及\", \"电子计算机\", \"互联网\", \"生物学史\", \"植物学\", \"生物学史\", \"植物学\", \"電\", \"宇宙\", \"银河系\", \"太阳\", \"月球\"]\n",
        "topics"
      ],
      "metadata": {
        "id": "TsjHtavs6HbJ",
        "colab": {
          "base_uri": "https://localhost:8080/"
        },
        "outputId": "69030d91-42ae-4b40-bf02-0c6beb25c158"
      },
      "execution_count": null,
      "outputs": [
        {
          "output_type": "execute_result",
          "data": {
            "text/plain": [
              "['人類演化',\n",
              " '物理学史',\n",
              " '日本历史',\n",
              " '中国历史',\n",
              " '德国历史',\n",
              " '大韓民國歷史',\n",
              " '第二次世界大战',\n",
              " '第一次世界大战',\n",
              " '法國歷史',\n",
              " '越南歷史',\n",
              " '印度尼西亚',\n",
              " '马来西亚历史',\n",
              " '菲律宾历史',\n",
              " '缅甸历史',\n",
              " '柬埔寨保护国',\n",
              " '汶萊歷史',\n",
              " '新加坡历史',\n",
              " '聯合王國歷史',\n",
              " '美国历史',\n",
              " '加拿大歷史',\n",
              " '澳大利亚历史',\n",
              " '西班牙歷史',\n",
              " '阿根廷历史',\n",
              " '地球',\n",
              " '月球',\n",
              " '古埃及',\n",
              " '电子计算机',\n",
              " '互联网',\n",
              " '生物学史',\n",
              " '植物学',\n",
              " '生物学史',\n",
              " '植物学',\n",
              " '電',\n",
              " '宇宙',\n",
              " '银河系',\n",
              " '太阳',\n",
              " '月球']"
            ]
          },
          "metadata": {},
          "execution_count": 41
        }
      ]
    },
    {
      "cell_type": "code",
      "source": [
        "len(topics)"
      ],
      "metadata": {
        "colab": {
          "base_uri": "https://localhost:8080/"
        },
        "id": "3opJQ-JPckaj",
        "outputId": "d70b73fd-ee6e-430c-8f06-d644e2ae33b9"
      },
      "execution_count": null,
      "outputs": [
        {
          "output_type": "execute_result",
          "data": {
            "text/plain": [
              "37"
            ]
          },
          "metadata": {},
          "execution_count": 42
        }
      ]
    },
    {
      "cell_type": "code",
      "source": [
        "para = \"\"\n",
        "for topic in topics:\n",
        "  result = wikipedia.search(topic)\n",
        "  print(result)\n",
        "  content_orig = wikipedia.page(result[0]).content\n",
        "  content = content_orig.split(\"附錄\")[0]\n",
        "  content = content.split(\"注釋\")[0]\n",
        "  content = content.split(\"参见\")[0]\n",
        "  content = content.split(\"参考文献\")[0]\n",
        "  st = re.sub(r\"==.*?==+\", \"\", content)\n",
        "  st = re.sub(\"(#|/|\\?|\\\\n|\\\\t)\", \"\", st)\n",
        "  para += st + \"。\""
      ],
      "metadata": {
        "colab": {
          "base_uri": "https://localhost:8080/"
        },
        "id": "DbeGsl8zB1MD",
        "outputId": "8c81f596-0e6d-4682-da89-9288d5000c6b"
      },
      "execution_count": null,
      "outputs": [
        {
          "output_type": "stream",
          "name": "stdout",
          "text": [
            "['人類演化', '演化人類學', '人類多地起源說', '演化', '人类演化历程', '演化的證據', '演化博弈论', '人類基因組', '演化生物学', '演化心理學']\n",
            "['物理学史', '現代物理學', '物理学', '计算物理学', '國立臺灣大學物理學系', '理论物理学教程', '經典物理學', '诺贝尔物理学奖得主列表', '太阳物理学', '应用物理学']\n",
            "['日本历史', '日本歷史教科書問題', '日本歷史地名大系', '日本海军历史', '日本同性恋史', '國立歷史民俗博物館', '日本电影', '南开大学日本研究院', '日本廣播協會歷史', '日本就战争道歉发言列表']\n",
            "['中国历史', '中国历史地图集', '中国历史年表', '中国共产党修改历史的质疑', '中国历史文化名镇', '国家历史文化名城', '中国国家博物馆', '中国第一历史档案馆', '中国社会科学院世界历史研究所', '中国历史文化名村']\n",
            "['德国历史', '德国历史 (1945年—1990年)', '兩德統一以來德國歷史', '德国历史博物馆', '德国历史时间轴', '第一次世界大战期间的德国', '德国国名', '德国共产党', '德国', '同盟國軍事佔領德國']\n",
            "['大韓民國歷史', '大韩民国历史年表', '第五共和國 (大韓民國)', '第一共和國 (大韓民國)', '大韩民国临时政府', '大韓民國選舉', '大韓民國國軍', '第二共和國 (大韓民國)', '第六共和國 (大韓民國)', '大韓民國國徽']\n",
            "['第二次世界大战', '第二次世界大战年表', '第二次世界大战东南亚战区', '西方战线 (第二次世界大战)', '第二次世界大战欧洲战场', '第二次世界大戰歐戰勝利紀念日', '第二次世界大战参战国列表', '第二次世界大战回忆录', '第二次世界大战会议列表', '第二次世界大战期间的泰国']\n",
            "['第一次世界大战', '義大利戰線 (第一次世界大戰)', '第一次世界大戰參戰國列表', '同盟國 (第一次世界大戰)', '第一次世界大战爆发原因', '第一次世界大战战后影响', '东方战线 (第一次世界大战)', '第一次世界大战中的大西洋潜艇战', '非洲战场 (第一次世界大战)', '第一次世界大战北非战场']\n",
            "['法國歷史', '法國法蘭德斯', '法國軍隊', '法国行省', '国家自然历史博物馆 (法国)', '法國外交', '前法國駐港總領事官邸', '台灣與法國關係史', '法国文化部', '法國君主配偶列表']\n",
            "['越南歷史', '越南国家历史博物馆', '越南獨立宣言', '越南狀元列表', '越南獨立同盟會', '南北朝 (越南)', '越南史略', '越南国', '越南语', '越南第二共和國']\n",
            "['印度尼西亚', '印度尼西亚—韩国关系', '印度尼西亚总统', '印度尼西亚标准时间', '印度尼西亚—朝鲜关系', '印度尼西亞華人', '印度尼西亚省份列表', '印度尼西亚总理列表', '中國—印度尼西亞關係', '印度尼西亚独立革命']\n",
            "['马来西亚历史', '马来西亚国家博物馆', '新经济政策 (马来西亚)', '马来西亚日', '馬來西亞電影', '印尼—马来西亚对抗', '马来西亚交通部长', '马来西亚国防部', '马来西亚人民党', '马来西亚独立日']\n",
            "['菲律宾历史', '菲律賓自由黨', '菲律賓第二共和國', '菲律宾第一共和国', '菲律宾戒严时期', '第二次世界大戰期間的菲律賓', '菲律宾', '菲律宾总理', '菲律賓戰役 (1944年至1945年)', '菲律賓自由邦']\n",
            "['缅甸历史', '下缅甸', '马来西亚—缅甸关系', '上缅甸', '緬甸戰役', '緬甸國', '緬甸華人', '緬甸首都', '缅甸总统', '缅甸']\n",
            "['柬埔寨保护国', '柬埔寨日占时期', '保护国', '柬埔寨君主', '柬埔寨政府首脑列表', '柬埔寨过渡时期联合国权力机构', '老挝保护国', '柬埔寨王国 (1953年—1970年)', '柬埔寨王家勋章', '柬埔寨黑暗时代']\n",
            "['汶萊歷史', '中華民國—汶萊關係', '汶萊皇家航空', '汶莱', '文莱国旗', '汶萊帝國', '汶萊河', '汶萊博物館', '中国—文莱关系', '汶萊元']\n",
            "['新加坡历史', '新加坡州', '新加坡日佔時期', '新加坡國家博物院', '新加坡戰役', '新加坡華人', '1969年新加坡種族暴動', '新加坡河', '市中心 (新加坡)', '新加坡电信']\n",
            "['聯合王國歷史', '聯合王國貴族爵位', '不列顛群島歷史', '荷蘭聯合王國', '英格蘭歷史', '联合王国国家足球队', '葡萄牙-巴西-阿尔加维联合王国', '大不列顛王國', '聯合王國 (電影)', '聯合王國貴族男爵爵位']\n",
            "['美国历史', '美国历史年表', '美国历史 (1865年—1918年)', '国家历史名胜', '美国国家历史博物馆', '美國歷史區', '美国国家历史遗址', '美国总统历史排名', '美国华人历史学会', '美国空军历史研究局']\n",
            "['加拿大歷史', '加拿大國家歷史遺址', '加拿大華人歷史', '加拿大歷史 (1867年—1914年)', '啊，加拿大', '加拿大上議院', '加拿大历史博物馆', '臺灣裔加拿大人', '加拿大歷史 (1763年—1867年)', '上加拿大']\n",
            "['澳大利亚历史', '澳大利亚移民史', '澳大利亚共产党', '澳大利亚自由党', '澳大利亚时报', '澳大利亚总督', '南澳大利亚州', '澳大利亚元', '中国驻澳大利亚大使列表', '澳大利亚行政区划']\n",
            "['西班牙歷史', '西班牙君主', '西班牙LGBT權益', '西班牙工人社会党', '西班牙帝國', '西班牙第二共和国', '西班牙飲食', '西班牙黄金时代', '西班牙第一共和國', '西班牙哈布斯堡王朝']\n",
            "['阿根廷历史', '阿根廷副总统列表', '科尔多瓦 (阿根廷)', '阿根廷军事', '阿根廷副总统', '阿根廷國家足球隊', '阿根廷总统', '正义党 (阿根廷)', '第二次世界大戰期間的阿根廷', '英格兰裔阿根廷人']\n",
            "['地球', '地球物理学', 'Google地球', '地球科学', '地球空洞说', '地球大气层', '地球冒險系列', '地球構造', '地球的年齡', '地球歷史']\n",
            "['月球', '月球殖民', '月球号系列探测器', '月球軌道', '月球表面', '月球探测任务列表', '月球探勘者', '月球軌道計畫', '月球空心說', '月球勘测轨道飞行器']\n",
            "['古埃及', '埃及语', '古埃及历史年表', '古埃及建築', '古埃及后期', '埃及神话', '埃及第二王朝', '古埃及饮食文化', '古埃及数学', '埃及神祇列表']\n",
            "['电子计算机', '国家电子计算机工业总局', 'ACE (电子计算机)', '天津市电子计算机研究所', '加州大学圣巴巴拉分校电子与计算机工程系', '電子數值積分計算機', 'DJS-130计算机', '模拟计算机', '計算機', '電晶體計算機']\n",
            "['互联网', '中华人民共和国互联网', '互联网服务供应商', '互联网号码分配局', '互联网审查', '朝鲜互联网', '互联网交换中心', '中国公用计算机互联网', '互联网治理', '互联网用语']\n",
            "['生物学史', '演化生物学', '生物学', '计算生物学', '细胞生物学', '生物學哲學', '演化思想史', '社會生物學', '生物分类学', '演化發育生物學']\n",
            "['植物学', '古植物学', '民族植物學', '神秘植物學', '植物学湾', '林奈学会植物学杂志', '植物学报', '植物學名', '国际植物学大会', '柯蒂斯植物学杂志']\n",
            "['生物学史', '演化生物学', '生物学', '计算生物学', '细胞生物学', '生物學哲學', '演化思想史', '社會生物學', '生物分类学', '演化發育生物學']\n",
            "['植物学', '古植物学', '民族植物學', '神秘植物學', '植物学湾', '林奈学会植物学杂志', '植物学报', '植物學名', '国际植物学大会', '柯蒂斯植物学杂志']\n",
            "['電', '集電弓', '電勢', '电白区', '電貝斯', '介電質', '首都圈電鐵', '電裝', '电路', '幪面超人電王']\n",
            "['宇宙', '宇宙学', '宇宙微波背景', '元宇宙', '膨胀宇宙的未来', '可觀測宇宙', '宇宙的形状', '宇宙的終極命運', '宇宙學常數', '多重宇宙論']\n",
            "['银河系', '銀河系的衛星星系', '银河系象限', '仙女座星系-银河系的碰撞', '银河系漫游指南系列', '银河系漫游指南 (小说)', 'NASA/IPAC外银河系数据库', '银河系漫游指南 (消歧义)', '銀河系天文學', '银河系科幻小说']\n",
            "['太阳', '太阳物理学', '太阳风', '太阳质量', '太阳高度角', 'Astro小太阳', '菲尼克斯太阳', '太阳中微子问题', '太陽報 (英國)', '太阳镇 (杭州市)']\n",
            "['月球', '月球殖民', '月球号系列探测器', '月球軌道', '月球表面', '月球探测任务列表', '月球探勘者', '月球軌道計畫', '月球空心說', '月球勘测轨道飞行器']\n"
          ]
        }
      ]
    },
    {
      "cell_type": "code",
      "source": [
        "data = para.split(\"。\")"
      ],
      "metadata": {
        "id": "qzOWdInrDsyJ"
      },
      "execution_count": null,
      "outputs": []
    },
    {
      "cell_type": "code",
      "source": [
        "len(data)"
      ],
      "metadata": {
        "colab": {
          "base_uri": "https://localhost:8080/"
        },
        "id": "gi9k0WwiDycJ",
        "outputId": "e7080ca7-aa65-4479-bad2-8197ccad8a37"
      },
      "execution_count": null,
      "outputs": [
        {
          "output_type": "execute_result",
          "data": {
            "text/plain": [
              "11189"
            ]
          },
          "metadata": {},
          "execution_count": 56
        }
      ]
    },
    {
      "cell_type": "markdown",
      "source": [
        "# **Saving the Extracted Sentences**"
      ],
      "metadata": {
        "id": "mctr_6YgTSSd"
      }
    },
    {
      "cell_type": "code",
      "source": [
        "data_df = pd.DataFrame(data)\n",
        "data_df.head()"
      ],
      "metadata": {
        "colab": {
          "base_uri": "https://localhost:8080/",
          "height": 206
        },
        "id": "JYzm7fqTSs_B",
        "outputId": "70ef6360-b0cf-4d0c-f03e-00edb8795773"
      },
      "execution_count": null,
      "outputs": [
        {
          "output_type": "execute_result",
          "data": {
            "text/plain": [
              "                                                   0\n",
              "0      人類演化过去一直指的是在旧的解剖学意义上的，根據演化學說，所做出的各種關於现代人出现的假设\n",
              "1                                        通常包括灵长类的演化史\n",
              "2       主要研究人属现代智人作为独特的人科物种出现的演化过程，而不是研究灵长类动物出现的演化过程\n",
              "3  人类演化的研究涵盖多个学科领域，包括体质人类学、灵长类学、考古学、古生物学、行为学、语言学、...\n",
              "4  在人類演化的脈絡下，「人類」這個專有名詞指的是「人屬」，但人類演化的研究往往包括其他人科動物..."
            ],
            "text/html": [
              "\n",
              "  <div id=\"df-b18f1318-6ab6-4bae-a7b2-da4bd4e41b88\">\n",
              "    <div class=\"colab-df-container\">\n",
              "      <div>\n",
              "<style scoped>\n",
              "    .dataframe tbody tr th:only-of-type {\n",
              "        vertical-align: middle;\n",
              "    }\n",
              "\n",
              "    .dataframe tbody tr th {\n",
              "        vertical-align: top;\n",
              "    }\n",
              "\n",
              "    .dataframe thead th {\n",
              "        text-align: right;\n",
              "    }\n",
              "</style>\n",
              "<table border=\"1\" class=\"dataframe\">\n",
              "  <thead>\n",
              "    <tr style=\"text-align: right;\">\n",
              "      <th></th>\n",
              "      <th>0</th>\n",
              "    </tr>\n",
              "  </thead>\n",
              "  <tbody>\n",
              "    <tr>\n",
              "      <th>0</th>\n",
              "      <td>人類演化过去一直指的是在旧的解剖学意义上的，根據演化學說，所做出的各種關於现代人出现的假设</td>\n",
              "    </tr>\n",
              "    <tr>\n",
              "      <th>1</th>\n",
              "      <td>通常包括灵长类的演化史</td>\n",
              "    </tr>\n",
              "    <tr>\n",
              "      <th>2</th>\n",
              "      <td>主要研究人属现代智人作为独特的人科物种出现的演化过程，而不是研究灵长类动物出现的演化过程</td>\n",
              "    </tr>\n",
              "    <tr>\n",
              "      <th>3</th>\n",
              "      <td>人类演化的研究涵盖多个学科领域，包括体质人类学、灵长类学、考古学、古生物学、行为学、语言学、...</td>\n",
              "    </tr>\n",
              "    <tr>\n",
              "      <th>4</th>\n",
              "      <td>在人類演化的脈絡下，「人類」這個專有名詞指的是「人屬」，但人類演化的研究往往包括其他人科動物...</td>\n",
              "    </tr>\n",
              "  </tbody>\n",
              "</table>\n",
              "</div>\n",
              "      <button class=\"colab-df-convert\" onclick=\"convertToInteractive('df-b18f1318-6ab6-4bae-a7b2-da4bd4e41b88')\"\n",
              "              title=\"Convert this dataframe to an interactive table.\"\n",
              "              style=\"display:none;\">\n",
              "        \n",
              "  <svg xmlns=\"http://www.w3.org/2000/svg\" height=\"24px\"viewBox=\"0 0 24 24\"\n",
              "       width=\"24px\">\n",
              "    <path d=\"M0 0h24v24H0V0z\" fill=\"none\"/>\n",
              "    <path d=\"M18.56 5.44l.94 2.06.94-2.06 2.06-.94-2.06-.94-.94-2.06-.94 2.06-2.06.94zm-11 1L8.5 8.5l.94-2.06 2.06-.94-2.06-.94L8.5 2.5l-.94 2.06-2.06.94zm10 10l.94 2.06.94-2.06 2.06-.94-2.06-.94-.94-2.06-.94 2.06-2.06.94z\"/><path d=\"M17.41 7.96l-1.37-1.37c-.4-.4-.92-.59-1.43-.59-.52 0-1.04.2-1.43.59L10.3 9.45l-7.72 7.72c-.78.78-.78 2.05 0 2.83L4 21.41c.39.39.9.59 1.41.59.51 0 1.02-.2 1.41-.59l7.78-7.78 2.81-2.81c.8-.78.8-2.07 0-2.86zM5.41 20L4 18.59l7.72-7.72 1.47 1.35L5.41 20z\"/>\n",
              "  </svg>\n",
              "      </button>\n",
              "      \n",
              "  <style>\n",
              "    .colab-df-container {\n",
              "      display:flex;\n",
              "      flex-wrap:wrap;\n",
              "      gap: 12px;\n",
              "    }\n",
              "\n",
              "    .colab-df-convert {\n",
              "      background-color: #E8F0FE;\n",
              "      border: none;\n",
              "      border-radius: 50%;\n",
              "      cursor: pointer;\n",
              "      display: none;\n",
              "      fill: #1967D2;\n",
              "      height: 32px;\n",
              "      padding: 0 0 0 0;\n",
              "      width: 32px;\n",
              "    }\n",
              "\n",
              "    .colab-df-convert:hover {\n",
              "      background-color: #E2EBFA;\n",
              "      box-shadow: 0px 1px 2px rgba(60, 64, 67, 0.3), 0px 1px 3px 1px rgba(60, 64, 67, 0.15);\n",
              "      fill: #174EA6;\n",
              "    }\n",
              "\n",
              "    [theme=dark] .colab-df-convert {\n",
              "      background-color: #3B4455;\n",
              "      fill: #D2E3FC;\n",
              "    }\n",
              "\n",
              "    [theme=dark] .colab-df-convert:hover {\n",
              "      background-color: #434B5C;\n",
              "      box-shadow: 0px 1px 3px 1px rgba(0, 0, 0, 0.15);\n",
              "      filter: drop-shadow(0px 1px 2px rgba(0, 0, 0, 0.3));\n",
              "      fill: #FFFFFF;\n",
              "    }\n",
              "  </style>\n",
              "\n",
              "      <script>\n",
              "        const buttonEl =\n",
              "          document.querySelector('#df-b18f1318-6ab6-4bae-a7b2-da4bd4e41b88 button.colab-df-convert');\n",
              "        buttonEl.style.display =\n",
              "          google.colab.kernel.accessAllowed ? 'block' : 'none';\n",
              "\n",
              "        async function convertToInteractive(key) {\n",
              "          const element = document.querySelector('#df-b18f1318-6ab6-4bae-a7b2-da4bd4e41b88');\n",
              "          const dataTable =\n",
              "            await google.colab.kernel.invokeFunction('convertToInteractive',\n",
              "                                                     [key], {});\n",
              "          if (!dataTable) return;\n",
              "\n",
              "          const docLinkHtml = 'Like what you see? Visit the ' +\n",
              "            '<a target=\"_blank\" href=https://colab.research.google.com/notebooks/data_table.ipynb>data table notebook</a>'\n",
              "            + ' to learn more about interactive tables.';\n",
              "          element.innerHTML = '';\n",
              "          dataTable['output_type'] = 'display_data';\n",
              "          await google.colab.output.renderOutput(dataTable, element);\n",
              "          const docLink = document.createElement('div');\n",
              "          docLink.innerHTML = docLinkHtml;\n",
              "          element.appendChild(docLink);\n",
              "        }\n",
              "      </script>\n",
              "    </div>\n",
              "  </div>\n",
              "  "
            ]
          },
          "metadata": {},
          "execution_count": 52
        }
      ]
    },
    {
      "cell_type": "code",
      "source": [
        "data_df.shape"
      ],
      "metadata": {
        "colab": {
          "base_uri": "https://localhost:8080/"
        },
        "id": "thlH55WqVct2",
        "outputId": "043e31a5-bc57-416d-ac3b-e428cc3a131c"
      },
      "execution_count": null,
      "outputs": [
        {
          "output_type": "execute_result",
          "data": {
            "text/plain": [
              "(10807, 1)"
            ]
          },
          "metadata": {},
          "execution_count": 53
        }
      ]
    },
    {
      "cell_type": "code",
      "source": [
        "data_df.to_excel(\"Language Dataset_Chinese Traditional.xlsx\")"
      ],
      "metadata": {
        "id": "mnbr2sQTTeHR"
      },
      "execution_count": null,
      "outputs": []
    }
  ]
}