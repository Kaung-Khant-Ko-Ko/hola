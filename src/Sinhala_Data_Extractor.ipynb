{
  "nbformat": 4,
  "nbformat_minor": 0,
  "metadata": {
    "colab": {
      "provenance": []
    },
    "kernelspec": {
      "name": "python3",
      "display_name": "Python 3"
    },
    "language_info": {
      "name": "python"
    }
  },
  "cells": [
    {
      "cell_type": "code",
      "execution_count": null,
      "metadata": {
        "colab": {
          "base_uri": "https://localhost:8080/"
        },
        "id": "TGFMpnPG1EDF",
        "outputId": "b227cd03-4413-44d5-96b6-4fb5a8d98c21"
      },
      "outputs": [
        {
          "output_type": "stream",
          "name": "stdout",
          "text": [
            "Looking in indexes: https://pypi.org/simple, https://us-python.pkg.dev/colab-wheels/public/simple/\n",
            "Collecting wikipedia\n",
            "  Downloading wikipedia-1.4.0.tar.gz (27 kB)\n",
            "  Preparing metadata (setup.py) ... \u001b[?25l\u001b[?25hdone\n",
            "Requirement already satisfied: beautifulsoup4 in /usr/local/lib/python3.10/dist-packages (from wikipedia) (4.11.2)\n",
            "Requirement already satisfied: requests<3.0.0,>=2.0.0 in /usr/local/lib/python3.10/dist-packages (from wikipedia) (2.27.1)\n",
            "Requirement already satisfied: urllib3<1.27,>=1.21.1 in /usr/local/lib/python3.10/dist-packages (from requests<3.0.0,>=2.0.0->wikipedia) (1.26.15)\n",
            "Requirement already satisfied: certifi>=2017.4.17 in /usr/local/lib/python3.10/dist-packages (from requests<3.0.0,>=2.0.0->wikipedia) (2022.12.7)\n",
            "Requirement already satisfied: charset-normalizer~=2.0.0 in /usr/local/lib/python3.10/dist-packages (from requests<3.0.0,>=2.0.0->wikipedia) (2.0.12)\n",
            "Requirement already satisfied: idna<4,>=2.5 in /usr/local/lib/python3.10/dist-packages (from requests<3.0.0,>=2.0.0->wikipedia) (3.4)\n",
            "Requirement already satisfied: soupsieve>1.2 in /usr/local/lib/python3.10/dist-packages (from beautifulsoup4->wikipedia) (2.4.1)\n",
            "Building wheels for collected packages: wikipedia\n",
            "  Building wheel for wikipedia (setup.py) ... \u001b[?25l\u001b[?25hdone\n",
            "  Created wheel for wikipedia: filename=wikipedia-1.4.0-py3-none-any.whl size=11680 sha256=e12fe6e62c0124c54d88a7a59d1a7fd46855a18bbf44daa0f382adb670617ffe\n",
            "  Stored in directory: /root/.cache/pip/wheels/5e/b6/c5/93f3dec388ae76edc830cb42901bb0232504dfc0df02fc50de\n",
            "Successfully built wikipedia\n",
            "Installing collected packages: wikipedia\n",
            "Successfully installed wikipedia-1.4.0\n"
          ]
        }
      ],
      "source": [
        "pip install wikipedia"
      ]
    },
    {
      "cell_type": "code",
      "source": [
        "import wikipedia\n",
        "import re\n",
        "import pandas as pd"
      ],
      "metadata": {
        "id": "0kfFZKUA1Vj-"
      },
      "execution_count": null,
      "outputs": []
    },
    {
      "cell_type": "markdown",
      "source": [
        "# **Testing Sentence Extraction**"
      ],
      "metadata": {
        "id": "Yh92tEdWTIoi"
      }
    },
    {
      "cell_type": "code",
      "source": [
        "wikipedia.set_lang(\"si\")"
      ],
      "metadata": {
        "id": "H1k5QuVzVa9K"
      },
      "execution_count": null,
      "outputs": []
    },
    {
      "cell_type": "code",
      "source": [
        "test_result = wikipedia.search(\"තින් මෑන් (න්‍යෂ්ටික බොම්බය)\")\n",
        "print(test_result)"
      ],
      "metadata": {
        "colab": {
          "base_uri": "https://localhost:8080/"
        },
        "id": "SqqAFAEy3nBg",
        "outputId": "2486ebe5-6176-41e4-ecb4-997f9bafa76d"
      },
      "execution_count": null,
      "outputs": [
        {
          "output_type": "stream",
          "name": "stdout",
          "text": [
            "['තින් මෑන් (න්\\u200dයෂ්ටික බොම්බය)']\n"
          ]
        }
      ]
    },
    {
      "cell_type": "code",
      "source": [
        "test_content_orig = wikipedia.page(test_result[0]).content"
      ],
      "metadata": {
        "id": "q3uq71BM16Y3"
      },
      "execution_count": null,
      "outputs": []
    },
    {
      "cell_type": "code",
      "source": [
        "test_content_orig[-500:]"
      ],
      "metadata": {
        "colab": {
          "base_uri": "https://localhost:8080/",
          "height": 89
        },
        "id": "cu7oeXGF4Qws",
        "outputId": "e5bbaf21-6042-4382-fb45-68b99e96782f"
      },
      "execution_count": null,
      "outputs": [
        {
          "output_type": "execute_result",
          "data": {
            "text/plain": [
              "'rsity Press. ISBN 0-521-44132-3. OCLC 26764320. {{cite book}}: Invalid |ref=harv (help)\\nNichols, Kenneth D. (1987). The Road to Trinity. New York: William Morrow and Company. ISBN 0-688-06910-X. OCLC 15223648. {{cite book}}: Invalid |ref=harv (help)\\nSerber, Robert; Crease, Robert P. (1998). Peace & War: Reminiscences of a Life on the Frontiers of Science. New York: Columbia University Press. ISBN 978-0-231-10546-0. OCLC 37631186. {{cite book}}: Invalid |ref=harv (help)සැකිල්ල:මෑන්හැටන් ව්\\u200dයපෘතිය'"
            ],
            "application/vnd.google.colaboratory.intrinsic+json": {
              "type": "string"
            }
          },
          "metadata": {},
          "execution_count": 34
        }
      ]
    },
    {
      "cell_type": "code",
      "source": [
        "test_content = test_content_orig.split(\"මේවාත් බලන්න\")[0]\n",
        "test_content = test_content.split(\"බාහිර සබැඳි\")[0]\n",
        "test_st = re.sub(r\"==.*?==+\", \"\", test_content)\n",
        "test_st = re.sub(\"(#|\\?|\\\\n|\\\\t|\\[([0-9]*?)\\]|\\\\u200d)\", \"\", test_st)"
      ],
      "metadata": {
        "id": "KMesjL_tWKbz"
      },
      "execution_count": null,
      "outputs": []
    },
    {
      "cell_type": "code",
      "source": [
        "test_st[-400:]"
      ],
      "metadata": {
        "colab": {
          "base_uri": "https://localhost:8080/",
          "height": 71
        },
        "id": "XiRouLD2LbhL",
        "outputId": "8069ce6d-a5bb-4d5b-8d15-9545df644a65"
      },
      "execution_count": null,
      "outputs": [
        {
          "output_type": "execute_result",
          "data": {
            "text/plain": [
              "'enneth D. (1987). The Road to Trinity. New York: William Morrow and Company. ISBN 0-688-06910-X. OCLC 15223648. {{cite book}}: Invalid |ref=harv (help)Serber, Robert; Crease, Robert P. (1998). Peace & War: Reminiscences of a Life on the Frontiers of Science. New York: Columbia University Press. ISBN 978-0-231-10546-0. OCLC 37631186. {{cite book}}: Invalid |ref=harv (help)සැකිල්ල:මෑන්හැටන් ව්යපෘතිය'"
            ],
            "application/vnd.google.colaboratory.intrinsic+json": {
              "type": "string"
            }
          },
          "metadata": {},
          "execution_count": 36
        }
      ]
    },
    {
      "cell_type": "code",
      "source": [
        "test_li = test_st.split(\".\")"
      ],
      "metadata": {
        "id": "ViBf86xMEbYp"
      },
      "execution_count": null,
      "outputs": []
    },
    {
      "cell_type": "code",
      "source": [
        "test_li[-10:]"
      ],
      "metadata": {
        "colab": {
          "base_uri": "https://localhost:8080/"
        },
        "id": "e6urPjHKGk5K",
        "outputId": "38d315d3-dd6b-44cd-e168-f840838154d6"
      },
      "execution_count": null,
      "outputs": [
        {
          "output_type": "execute_result",
          "data": {
            "text/plain": [
              "[' New York: William Morrow and Company',\n",
              " ' ISBN 0-688-06910-X',\n",
              " ' OCLC 15223648',\n",
              " ' {{cite book}}: Invalid |ref=harv (help)Serber, Robert; Crease, Robert P',\n",
              " ' (1998)',\n",
              " ' Peace & War: Reminiscences of a Life on the Frontiers of Science',\n",
              " ' New York: Columbia University Press',\n",
              " ' ISBN 978-0-231-10546-0',\n",
              " ' OCLC 37631186',\n",
              " ' {{cite book}}: Invalid |ref=harv (help)සැකිල්ල:මෑන්හැටන් ව්යපෘතිය']"
            ]
          },
          "metadata": {},
          "execution_count": 38
        }
      ]
    },
    {
      "cell_type": "code",
      "source": [
        "len(test_li)"
      ],
      "metadata": {
        "colab": {
          "base_uri": "https://localhost:8080/"
        },
        "id": "n1QmJxlHHNg6",
        "outputId": "861ec070-e8a9-4d22-9266-a5ef412ecb68"
      },
      "execution_count": null,
      "outputs": [
        {
          "output_type": "execute_result",
          "data": {
            "text/plain": [
              "79"
            ]
          },
          "metadata": {},
          "execution_count": 39
        }
      ]
    },
    {
      "cell_type": "markdown",
      "source": [
        "# **Collecting Data**"
      ],
      "metadata": {
        "id": "0xomkl2WArqV"
      }
    },
    {
      "cell_type": "code",
      "source": [
        "topics = [\"පරිණාමය\", \"බුරුම ඉතිහාසය\", \"න්‍යෂ්ටික භෞතික විද්‍යාවේ ඉතිහාසය\", \"නක්ෂත්‍ර භෞතික විද්‍යාවේ ඉතිහාසය\", \"ජපානය\", \"චීනය\", \"ජර්මනිය\", \"කොරියාවේ ඉතිහාසය\", \"පළමුවන ලෝක යුද්ධය\", \"දෙවන ලෝක යුද්ධය\", \"ප්‍රංශය\", \"ප්‍රංශ විප්ලවය\", \"තායිලන්තයේ ඉතිහාසය\", \"වියට්නාමය\", \"ඉන්දුනීසියාව\", \"ථේරවාද බුදු දහම\", \"මලයාසියාව\", \"පිලිපීනය\", \"කාම්බෝජය\", \"බුද්ධාගමේ ඉතිහාසය\", \"එක්සත් ජනපදයේ යටත් විජිත ඉතිහාසය\", \"එක්සත් ජනපදය\", \"පුරාතන ග්‍රීක ශිෂ්ටාචාරය\", \"රුසියානු ඉතිහාසය\", \"ඉතාලිය\", \"චන්ද්‍රයා\", \"බුධ\", \"පුරාණ ඊජිප්තුව\", \"පරිගණකය\", \"තින් මෑන් (න්‍යෂ්ටික බොම්බය)\", \"අන්තර්ජාල පත්‍රකලාවේදනය\", \"හිරු\", \"ශ්‍රී ලංකාව\", \"ශ්‍රී ලංකාවේ ඉතිහාසය\"]\n",
        "topics"
      ],
      "metadata": {
        "id": "TsjHtavs6HbJ",
        "colab": {
          "base_uri": "https://localhost:8080/"
        },
        "outputId": "e4e1bc92-31a9-481d-816d-0eaec4563970"
      },
      "execution_count": null,
      "outputs": [
        {
          "output_type": "execute_result",
          "data": {
            "text/plain": [
              "['පරිණාමය',\n",
              " 'බුරුම ඉතිහාසය',\n",
              " 'න්\\u200dයෂ්ටික භෞතික විද්\\u200dයාවේ ඉතිහාසය',\n",
              " 'නක්ෂත්\\u200dර භෞතික විද්\\u200dයාවේ ඉතිහාසය',\n",
              " 'ජපානය',\n",
              " 'චීනය',\n",
              " 'ජර්මනිය',\n",
              " 'කොරියාවේ ඉතිහාසය',\n",
              " 'පළමුවන ලෝක යුද්ධය',\n",
              " 'දෙවන ලෝක යුද්ධය',\n",
              " 'ප්\\u200dරංශය',\n",
              " 'ප්\\u200dරංශ විප්ලවය',\n",
              " 'තායිලන්තයේ ඉතිහාසය',\n",
              " 'වියට්නාමය',\n",
              " 'ඉන්දුනීසියාව',\n",
              " 'ථේරවාද බුදු දහම',\n",
              " 'මලයාසියාව',\n",
              " 'පිලිපීනය',\n",
              " 'කාම්බෝජය',\n",
              " 'බුද්ධාගමේ ඉතිහාසය',\n",
              " 'එක්සත් ජනපදයේ යටත් විජිත ඉතිහාසය',\n",
              " 'එක්සත් ජනපදය',\n",
              " 'පුරාතන ග්\\u200dරීක ශිෂ්ටාචාරය',\n",
              " 'රුසියානු ඉතිහාසය',\n",
              " 'ඉතාලිය',\n",
              " 'චන්ද්\\u200dරයා',\n",
              " 'බුධ',\n",
              " 'පුරාණ ඊජිප්තුව',\n",
              " 'පරිගණකය',\n",
              " 'තින් මෑන් (න්\\u200dයෂ්ටික බොම්බය)',\n",
              " 'අන්තර්ජාල පත්\\u200dරකලාවේදනය',\n",
              " 'හිරු',\n",
              " 'ශ්\\u200dරී ලංකාව',\n",
              " 'ශ්\\u200dරී ලංකාවේ ඉතිහාසය']"
            ]
          },
          "metadata": {},
          "execution_count": 40
        }
      ]
    },
    {
      "cell_type": "code",
      "source": [
        "len(topics)"
      ],
      "metadata": {
        "colab": {
          "base_uri": "https://localhost:8080/"
        },
        "id": "3opJQ-JPckaj",
        "outputId": "32d69f2b-ef24-4617-82e4-71ce758fda17"
      },
      "execution_count": null,
      "outputs": [
        {
          "output_type": "execute_result",
          "data": {
            "text/plain": [
              "34"
            ]
          },
          "metadata": {},
          "execution_count": 41
        }
      ]
    },
    {
      "cell_type": "code",
      "source": [
        "para = \"\"\n",
        "for topic in topics:\n",
        "  result = wikipedia.search(topic)\n",
        "  print(result)\n",
        "  content_orig = wikipedia.page(result[0]).content\n",
        "  content = content_orig.split(\"මේවාත් බලන්න\")[0]\n",
        "  content = content.split(\"බාහිර සබැඳි\")[0]\n",
        "  st = re.sub(r\"==.*?==+\", \"\", content)\n",
        "  st = re.sub(\"(#|\\?|\\\\n|\\\\t|\\[([0-9]*?)\\]|\\\\u200d)\", \"\", st)\n",
        "  para += st + \".\""
      ],
      "metadata": {
        "colab": {
          "base_uri": "https://localhost:8080/"
        },
        "id": "DbeGsl8zB1MD",
        "outputId": "11cf9a40-a4f8-41c8-ef45-1ba521360990"
      },
      "execution_count": null,
      "outputs": [
        {
          "output_type": "stream",
          "name": "stdout",
          "text": [
            "['පරිණාමය', 'පරිණාමය සහ පරිණාමය', 'පරිණාමය හා සබැඳි වැරදි මත', 'සෞර ග්\\u200dරහ මණ්ඩලයෙහි නිර්මාණය සහ පරිණාමය', 'කුරුල්ලෝ', 'ආර්ථිකයේ පරිණාමය', 'ලතින්', 'ශාක වල පරිණාමයේ ඉතිහාසය', 'කතෝලික සභාව හා පරිණාමවාදය', 'වෛරසවේදය']\n",
            "['බුරුම ඉතිහාසය', 'මියන්මාරය', 'බුරුම ප්\\u200dරාණපරිත්\\u200dයාගවරුන්ගේ දිනය', 'බුරුමයේ ඉතිහාසය', 'තායිලන්ත ඉතිහාසය', 'බෞද්ධ ඉතිහාසය', 'තායිලන්තයේ ඉතිහාසය', 'ශ්\\u200dරී ලංකාවේ ඉතිහාසය', 'බුද්ධාගමේ ඉතිහාසය', 'ත්\\u200dරිකුණාමලය නාවික කෞතුකාගාරය']\n",
            "['න්\\u200dයෂ්ටික භෞතික විද්\\u200dයාවේ ඉතිහාසය', 'න්\\u200dයෂ්ටික භෞතික විද්\\u200dයාව', 'භෞතික විද්\\u200dයාව', 'තාරකා භෞතික විද්\\u200dයාව', 'භෞතික රසායන විද්\\u200dයාව', 'රසායන විද්\\u200dයාව', 'රුසියාවේ විද්\\u200dයාව හා තාක්ෂණය', 'සාපේක්ෂතාවාදය', 'ඉංජිනේරු විද්\\u200dයාව', 'ඉලෙක්ට්\\u200dරෝනය']\n",
            "['නක්ෂත්\\u200dර භෞතික විද්\\u200dයාවේ ඉතිහාසය', 'තාරකා භෞතික විද්\\u200dයාව', 'අභ්\\u200dයාවකාශ ජීව විද්\\u200dයාව', 'ආලෝකය', 'තාරකාශාස්ත්\\u200dර සහ නවීන විද්\\u200dයාව', 'තරු', 'හේල්-බෝප් ධූමකේතුව']\n",
            "['ජපානය', 'ස්වාභාවික විද්\\u200dයා ජාතික ආයතන, ජපානය', 'ෂිකෝකු', 'ජපාන-ශ්\\u200dරී ලංකා සබඳතා', 'හිරොෂීමා ප්\\u200dරාන්තය', 'හොක්කයිදෝ', 'ඕසකා ප්\\u200dරාන්තය', 'සගා ප්\\u200dරාන්තය', 'කෝචි ප්\\u200dරාන්තය', 'ෆුකුෂිමා ප්\\u200dරාන්තය']\n",
            "['චීනය', 'චීනය (වක්\\u200dරෝක්තිහරණය)', 'ලෝකඩ යුගය - චීනය', 'චීන-ශ්\\u200dරී ලංකා සබඳතා', 'චින් රාජවංශය', 'ලෝකඩ යුගය', 'චීනයේ බෞද්ධ ඉතිහාසය', 'හිමාලය', 'ඉන්දියා චීන යුද්ධය - 1962', 'වජ්\\u200dරයානය']\n",
            "['ජර්මනිය', 'නාසි ජර්මනිය', 'ජර්මනිය විසින් පෝලන්ත ජාතිකයන් නෙරපාහැරීම', 'බ්\\u200dරසීලය එරෙහි ජර්මනිය (2014 ෆීෆා ලෝක කුසලාන පාපන්දු තරගාවලිය)', 'දෙවන ලෝක යුද්ධය', 'පළමුවන ලෝක යුද්ධය', 'අක්ෂ බලවතුන්', 'ව්\\u200dයවස්ථාදායකය', 'ඔස්ට්\\u200dරියාව', '1936 ගිම්හාන ඔලිම්පික්']\n",
            "['කොරියාවේ ඉතිහාසය', 'කොරියාවේ ප්\\u200dරාක්–තුන් රාජධානි', 'කොරියාවේ සුන්ජොං', 'කොරියාවේ ගෝජොං', 'දකුණු කොරියාවේ ඉතිහාසය', 'ජාතික වස්තුව (දකුණු කොරියාව)', 'සම්ගුංන්\\u200dයුසා', 'කොරියාවේ රජවරුන්ගේ නම් ලැයිස්තුව', 'ග්යොංහුයිගුං', 'තේබොං']\n",
            "['පළමුවන ලෝක යුද්ධය', 'පළමුවන ලෝක යුද්ධය තුලදී එක්සත් රාජධානියෙහි ඉතිහාසය', 'සර්බියානු මෙහෙයුම', 'පළමුවන ලෝක යුද්ධයෙහි මිත්\\u200dර පක්ෂය', 'යුද්ධය පිළිබඳ සමාජීය විද්\\u200dයාත්මක න්\\u200dයායන්', 'තෙවන ලෝක යුද්ධය', 'දෙවන ලෝක යුද්ධය', 'මුස්තාෆා කෙමාල් අටාටුර්ක්', '1920 ගිම්හාන ඔලිම්පික්', 'රණවිරු අනුස්මරණ දිනය']\n",
            "['දෙවන ලෝක යුද්ධය', 'පළමුවන ලෝක යුද්ධය', 'තෙවන ලෝක යුද්ධය', 'දෙවන ලෝක යුද්ධයෙහි මිත්\\u200dර පාක්ෂිකයෝ', 'ලෝක මහා බලවතා', 'දෙවන ලෝක යුද්ධ සමයෙහි ලංකාව', 'නිරවි යුද්ධය', 'හිරෝෂිමා', 'ෆල්ෂියෙම්යේගා', 'ෆීෆා ලෝක කුසලාන']\n",
            "['ප්\\u200dරංශය', 'නව ප්\\u200dරංශය', 'බටහිර ඉන්දීය කොදෙව්', 'ජූලි 3', 'පළමුවන ලෝක යුද්ධය', 'ස්පාඤ්ඤය', 'කැනඩාව', 'බ්\\u200dරිතාන්\\u200dය ලංකාව', 'පැරිස් ප්\\u200dරහාර, 2015 නොවැම්බර්', 'නේටෝ']\n",
            "['ප්\\u200dරංශ විප්ලවය', 'පළමු ප්\\u200dරංශ ජනරජය', 'බැස්ටීල් දිනය', 'ප්\\u200dරංශයේ භීෂණ පාලන සමය', 'යුරෝපානු ඉතිහාසය-ප්\\u200dරංශයේ පළමු නැපෝලියන්', 'යුරෝපයේ නීතිය', 'නැපෝලියන් බොනපාට්', 'ව්\\u200dයවස්ථානුකූලවාදය', 'බෙන්ජමින් ෆ්\\u200dරෑන්ක්ලින්', 'සයිබර් විප්ලව']\n",
            "['තායිලන්තයේ ඉතිහාසය', 'තායිලන්ත ඉතිහාසය', 'තායිලන්තය', 'තායි ඉතිහාසය', 'මහාවංශය', 'බැංකොක් පෝස්ට්', 'ඵෙතිහාසිකත්වය', 'පියවරුන්ගේ දිනය', 'මහාබෝධි විහාරය, බුද්ධගයා', 'සියම් මහ නිකාය']\n",
            "['වියට්නාමය', 'දකුණු වියට්නාමය', 'වජ්\\u200dරයානය', 'ජාතික දිනය (වියට්නාමය)', 'ලෝක බෞද්ධ කෞතුකාගාරය', 'රට අනුව බුද්ධාගම', 'වියට්නාම බාලදක්ෂ සංගමය', 'චීන චරිත සංස්කෘතික කවය', 'තායිලන්තය', 'ලාඕසය']\n",
            "['ඉන්දුනීසියාව', 'ඉන්දුනීසියා–ශ්\\u200dරී ලංකා සබඳතා', 'සුමාත්\\u200dරා', 'ඉන්දුනීසියාවේ සංචාරක ස්ථාන', 'ආසියානු වෙරළ ක්\\u200dරීඩා උළෙල', 'තායිලන්තය', 'චැනල් නිවුස්ඒෂියා', 'ඉන්දුනීසියාවේ ජාතික කෞතුකාගාරය', 'ගණේශ', 'ඕස්ට්\\u200dරේලියාව']\n",
            "['ථේරවාද බුදු දහම', 'පාකිස්ථාන\\u200dයේ බුදු දහම', 'බංගලාදේශයේ බුදු දහම', 'ශ්\\u200dරී ලංකාවේ බුද්ධාගම', 'ඉරානයේ බුදු දහම', 'ඇෆ්ගනිස්ථාන\\u200dයේ බුදු දහම', 'කල්මිකියාවේ බුදු දහම', 'සුඛාවතී බුදු දහම', '\\u200dබුද්ධාගම', 'බුද්ධාගම']\n",
            "['මලයාසියාව', 'මලයාසියා-ශ්\\u200dරී ලංකා සබඳතා', 'මලයාසියානු දිනය', 'ලෝක බෞද්ධ කෞතුකාගාරය', 'රෝසි සේනානායක', 'තායිලන්තය', 'දෙමළ භාෂා පුවත්පත් ලැයිස්තුව', 'ශ්\\u200dරී ධම්මානන්ද හිමි', 'වෙසක් මස පුර පසළොස්වක පොහොය', 'කෝලිත සෙල්ලහේවා']\n",
            "['පිලිපීනය', 'පිලිපීන-ශ්\\u200dරී ලංකා සබඳතා', 'මිහිකත රූ රැජිණ', 'වතිකානු-ශ්\\u200dරී ලංකා සබඳතා', 'චැනල් නිවුස්ඒෂියා', 'ඉන්දුනීසියාව', 'දකුණු චීන මුහුදේ භෞමික ආරවුල්', 'ලෙකීමා සුළි කුණාටුව', 'ෆර්ඩිනන්ඩ් මැගලන්', 'අග්නිදිග ආසියානු ජාතීන්ගේ සංගමය']\n",
            "['කාම්බෝජය', 'කමේය ජනයා', 'ලෝක බෞද්ධ කෞතුකාගාරය', 'අවලෝකිතේශ්වර', 'රට අනුව බුද්ධාගම', 'බුද්ධාගම', 'අප්සරා', 'තායිලන්තය', 'ලාඕසය', 'මේකොං ගඟ']\n",
            "['බුද්ධාගමේ ඉතිහාසය', 'ඉන්දියාවේ බුදු දහම', 'බෞද්ධ ඉතිහාසය', 'අවුරංගාබාද් ලෙන්', 'ලංකා ඉතිහාසය-මහාවංශය යනු', 'රුසියාවේ බුද්ධාගම', 'කීර්ති ශ්\\u200dරී රාජසිංහ රජ', 'බුද්ධාගම', 'තලාජා ලෙන්', 'සුඛාවතී බුදු දහම']\n",
            "['එක්සත් ජනපදයේ යටත් විජිත ඉතිහාසය', 'අමෙරිකා එක්සත් ජනපදයේ ඉතිහාසය', 'අමෙරිකා එක්සත් ජනපද සාහිත්\\u200dයය', 'එක්සත් ජනපදයේ යටත්විජිතවාදී ඉතිහාසය', '\\u200d\\u200dෙත්මාවන් සහ ගති ලක්ෂණ', 'එක්සත් ජනපදයේ ආර්ථික ඉතිහාසය', 'හින්දුසමයේ ඉතිහාසය', 'සංචාරක උරුමයන්', 'කොරියාවේ ඉතිහාසය', 'මුද්දර එකතුකිරිම']\n",
            "['එක්සත් ජනපදය', 'නිදහස් දිනය (එක්සත් ජනපදය)', 'ඊසානදිග එක්සත් ජනපදය', 'ඩිමොක්\\u200dරටික් පක්ෂය (එක්සත් ජනපදය)', 'එක්සත් ජාතීන්ගේ සංවිධානය', 'දක්ෂිණදිග එක්සත් ජනපදය', 'අමෙරිකා එක්සත් ජනපදයේ ඉතිහාසය', 'වොෂින්ටන් (ජනපදය)', 'අමෙරිකා එක්සත් ජනපද ඩොලර්', 'විධායක නියෝගය 13769']\n",
            "['පුරාතන ග්\\u200dරීක ශිෂ්ටාචාරය', 'පුරාතන ලෝකය - පුරාතන ග්\\u200dරීසිය', 'පුරාතන ග්\\u200dරීසිය', 'පුරාතන ග්\\u200dරීක ආගම', 'ඉන්දු නිම්න ශිෂ්ටාචාරය', 'පුරාතන රෝමය', 'ඉන්දියාවේ ඉතිහාසය', 'පුරාණ ඉතිහාසය', 'රොසෙටා පාෂාණය', 'අවන්ති (පුරාතන ඉන්දියාව)']\n",
            "['රුසියානු ඉතිහාසය', 'රුසියාව', 'රුසියාවෙහි ඉතිහාසය', 'රුසියානු විප්ලවය', 'සෝවියට් රුසියාවේ සහ සෝවියට් සංගමයෙහි ඉතිහාසය (1917–1927)', 'යුක්රේනය', 'කොරියාවේ ඉතිහාසය', 'රුසියාවේ බුද්ධාගම', 'WT:Articles for creation/රොකට් යානය', 'ගෝලීය ස්ථාන නිර්ණයන පද්ධතිය']\n",
            "['ඉතාලිය', 'ඉතාලි රාජධානිය', 'පළමුවන ලෝක යුද්ධය', 'පළමුවන ලෝක යුද්ධයෙහි මිත්\\u200dර පක්ෂය', 'අක්ෂ බලවතුන්', 'සැන් මරිනෝ', 'නේටෝ', 'දෙවන ලෝක යුද්ධය', 'බෙනිටෝ මුසෝලිනී', 'ජාතීන්ගේ සංගමය']\n",
            "['චන්ද්\\u200dරයා', 'ටයිටන් (චන්ද්\\u200dරයා)', 'තීබි (චන්ද්\\u200dරයා)', 'යුරෝපා (චන්ද්\\u200dරයා)', 'ගැනිමීඩ් (චන්ද්\\u200dරයා)', 'ස්පොන්ඩී (චන්ද්\\u200dරයා)', 'මෙගක්ලයිටී (චන්ද්\\u200dරයා)', 'සිනෝපී (චන්ද්\\u200dරයා)', 'අගහරුගේ-ඩයිමෝස් චන්ද්\\u200dරයා', 'චන්ද්\\u200dරයා - නිරීක්ෂණය']\n",
            "['බුධ', 'බුධ ග්\\u200dරහයාගේ අභ්\\u200dයන්තර ව්\\u200dයුහය', 'සෞරග්\\u200dරහ මණ්ඩලය', 'ටයිටන් (චන්ද්\\u200dරයා)', 'ගැනිමීඩ් (චන්ද්\\u200dරයා)', 'යුරේනස් (පුරාණෝක්තිය)', 'පොරොන්දම', 'භෞමික ග්\\u200dරහලෝක', 'වෘෂභ රාශිය', 'රතු යෝධ තරු']\n",
            "['පුරාණ ඊජිප්තුව', 'පුරාතන මිසරය', 'චරිත කථා', 'මොහෙන්ජදාරෝ', \"මහා ඇලෙක්සැන්ඩ' රජ\", 'ප්\\u200dරාග් ඓතිහාස්ක යුගය', '\\u200dජෝර්දානය', 'හොරස්', 'බැබිලෝනියාව', 'අමෙන්හොටෙප් III']\n",
            "['පරිගණකය', 'මැකින්ටොශ් ක්ලැසික් පරිගණකය', 'පරිගණකය (සඟරාව)', 'සේවාදායක පරිගණකය', 'ලැප්ටොප් පරිගණකය', 'පෞද්ගලික පරිගණකය', 'පරිගණකයේ ඉතිහාසය', 'පරිගණක සිසිලනය', 'Macintosh Classic', 'Apple II']\n",
            "['තින් මෑන් (න්\\u200dයෂ්ටික බොම්බය)']\n",
            "['අන්තර්ජාල පත්\\u200dරකලාවේදනය', 'පත්රකලාවේදනය.', 'ක්\\u200dරීඩා පත්\\u200dරකලාවේදය', 'පත්\\u200dර කලාව', 'ප්\\u200dරවෘත්ති ප්\\u200dරචාරණය', 'ග්\\u200dරැෆික් නර්මානකරණය']\n",
            "['හිරු', 'හිරු ටීවී', 'සඳ හිරු සෑය', 'හිරු ස්වර්ණ සිනමා සම්මාන', 'උදාරි වර්ණකුලසූරිය', 'රා (දෙවියා)', 'සූර්ය දවස', 'කුඩා ග්\\u200dරහලෝක', 'බුදදා', 'සඳුදා (සූර්ය දවස)']\n",
            "['ශ්\\u200dරී ලංකාව', 'බස්නාහිර පළාත, ශ්\\u200dරී ලංකාව', 'ලන්දේසි ලංකාව', 'ශ්\\u200dරී ලාංකිකයෝ', 'බ්\\u200dරිතාන්\\u200dය ලංකාව', 'ශ්\\u200dරී ලංකා ජාතික ක්\\u200dරිකට් කණ්ඩායම', 'ශ්\\u200dරී ලංකාවේ දේශපාලනය', 'ශ්\\u200dරී ලංකාවේ අග්\\u200dරාමාත්\\u200dය', 'A10 මහා මාර්ගය (ශ්\\u200dරී ලංකාව)', 'A35 මහා මාර්ගය (ශ්\\u200dරී ලංකාව)']\n",
            "['ශ්\\u200dරී ලංකාවේ ඉතිහාසය', 'ශ්\\u200dරී ලංකාව', 'ශ්\\u200dරී ලංකාවේ පුරාතන ඉතිහාසය', 'ශ්\\u200dරී ලංකාවේ ප්\\u200dරාග් ඉතිහාසය', 'පොලොන්නරුවේ දෙවන ගජබාහු රජ', 'ශ්\\u200dරී ලංකාවේ අග්\\u200dරාමාත්\\u200dය', 'රාජාවලිය', 'ශ්\\u200dරී ලංකාවේ බුද්ධාගම', 'බෞද්ධ ඉතිහාසය', 'ශ්\\u200dරී ලංකාවේ ජනාධිපති']\n"
          ]
        }
      ]
    },
    {
      "cell_type": "code",
      "source": [
        "data = para.split(\".\")"
      ],
      "metadata": {
        "id": "qzOWdInrDsyJ"
      },
      "execution_count": null,
      "outputs": []
    },
    {
      "cell_type": "code",
      "source": [
        "len(data)"
      ],
      "metadata": {
        "colab": {
          "base_uri": "https://localhost:8080/"
        },
        "id": "gi9k0WwiDycJ",
        "outputId": "3a0dfd2b-baff-4525-e249-660eaccd6288"
      },
      "execution_count": null,
      "outputs": [
        {
          "output_type": "execute_result",
          "data": {
            "text/plain": [
              "14016"
            ]
          },
          "metadata": {},
          "execution_count": 45
        }
      ]
    },
    {
      "cell_type": "markdown",
      "source": [
        "# **Saving the Extracted Sentences**"
      ],
      "metadata": {
        "id": "mctr_6YgTSSd"
      }
    },
    {
      "cell_type": "code",
      "source": [
        "data_df = pd.DataFrame(data)\n",
        "data_df.head()"
      ],
      "metadata": {
        "colab": {
          "base_uri": "https://localhost:8080/",
          "height": 206
        },
        "id": "JYzm7fqTSs_B",
        "outputId": "d957926d-086e-44d4-f66f-d809ba975f09"
      },
      "execution_count": null,
      "outputs": [
        {
          "output_type": "execute_result",
          "data": {
            "text/plain": [
              "                                                   0\n",
              "0  පරිණාමය යනු පරම්පරාවෙන් පරම්පරාවට ජීව විශේෂ ගහ...\n",
              "1   ජීවියෙකුගෙන් ඔහුගේ දුහිතෘ ජීවියාට යැවෙන ජාන ම...\n",
              "2   ජානවල විකෘතිතාව හෝ වෙනස් ලක්ෂණ ජීවීන්ට ඇති කි...\n",
              "3   එම නිසා නව ලක්ෂණ ජීවී ගහණ අතර ජාන මාරුවීමෙන්ද...\n",
              "4   ලිංගිකව වර්ගයා බෝ කරන ජීවීන්ගේ ජාන ප්රතිසංවිධ..."
            ],
            "text/html": [
              "\n",
              "  <div id=\"df-1ebe5069-54ef-4cad-967e-6513a04ce19c\">\n",
              "    <div class=\"colab-df-container\">\n",
              "      <div>\n",
              "<style scoped>\n",
              "    .dataframe tbody tr th:only-of-type {\n",
              "        vertical-align: middle;\n",
              "    }\n",
              "\n",
              "    .dataframe tbody tr th {\n",
              "        vertical-align: top;\n",
              "    }\n",
              "\n",
              "    .dataframe thead th {\n",
              "        text-align: right;\n",
              "    }\n",
              "</style>\n",
              "<table border=\"1\" class=\"dataframe\">\n",
              "  <thead>\n",
              "    <tr style=\"text-align: right;\">\n",
              "      <th></th>\n",
              "      <th>0</th>\n",
              "    </tr>\n",
              "  </thead>\n",
              "  <tbody>\n",
              "    <tr>\n",
              "      <th>0</th>\n",
              "      <td>පරිණාමය යනු පරම්පරාවෙන් පරම්පරාවට ජීව විශේෂ ගහ...</td>\n",
              "    </tr>\n",
              "    <tr>\n",
              "      <th>1</th>\n",
              "      <td>ජීවියෙකුගෙන් ඔහුගේ දුහිතෘ ජීවියාට යැවෙන ජාන ම...</td>\n",
              "    </tr>\n",
              "    <tr>\n",
              "      <th>2</th>\n",
              "      <td>ජානවල විකෘතිතාව හෝ වෙනස් ලක්ෂණ ජීවීන්ට ඇති කි...</td>\n",
              "    </tr>\n",
              "    <tr>\n",
              "      <th>3</th>\n",
              "      <td>එම නිසා නව ලක්ෂණ ජීවී ගහණ අතර ජාන මාරුවීමෙන්ද...</td>\n",
              "    </tr>\n",
              "    <tr>\n",
              "      <th>4</th>\n",
              "      <td>ලිංගිකව වර්ගයා බෝ කරන ජීවීන්ගේ ජාන ප්රතිසංවිධ...</td>\n",
              "    </tr>\n",
              "  </tbody>\n",
              "</table>\n",
              "</div>\n",
              "      <button class=\"colab-df-convert\" onclick=\"convertToInteractive('df-1ebe5069-54ef-4cad-967e-6513a04ce19c')\"\n",
              "              title=\"Convert this dataframe to an interactive table.\"\n",
              "              style=\"display:none;\">\n",
              "        \n",
              "  <svg xmlns=\"http://www.w3.org/2000/svg\" height=\"24px\"viewBox=\"0 0 24 24\"\n",
              "       width=\"24px\">\n",
              "    <path d=\"M0 0h24v24H0V0z\" fill=\"none\"/>\n",
              "    <path d=\"M18.56 5.44l.94 2.06.94-2.06 2.06-.94-2.06-.94-.94-2.06-.94 2.06-2.06.94zm-11 1L8.5 8.5l.94-2.06 2.06-.94-2.06-.94L8.5 2.5l-.94 2.06-2.06.94zm10 10l.94 2.06.94-2.06 2.06-.94-2.06-.94-.94-2.06-.94 2.06-2.06.94z\"/><path d=\"M17.41 7.96l-1.37-1.37c-.4-.4-.92-.59-1.43-.59-.52 0-1.04.2-1.43.59L10.3 9.45l-7.72 7.72c-.78.78-.78 2.05 0 2.83L4 21.41c.39.39.9.59 1.41.59.51 0 1.02-.2 1.41-.59l7.78-7.78 2.81-2.81c.8-.78.8-2.07 0-2.86zM5.41 20L4 18.59l7.72-7.72 1.47 1.35L5.41 20z\"/>\n",
              "  </svg>\n",
              "      </button>\n",
              "      \n",
              "  <style>\n",
              "    .colab-df-container {\n",
              "      display:flex;\n",
              "      flex-wrap:wrap;\n",
              "      gap: 12px;\n",
              "    }\n",
              "\n",
              "    .colab-df-convert {\n",
              "      background-color: #E8F0FE;\n",
              "      border: none;\n",
              "      border-radius: 50%;\n",
              "      cursor: pointer;\n",
              "      display: none;\n",
              "      fill: #1967D2;\n",
              "      height: 32px;\n",
              "      padding: 0 0 0 0;\n",
              "      width: 32px;\n",
              "    }\n",
              "\n",
              "    .colab-df-convert:hover {\n",
              "      background-color: #E2EBFA;\n",
              "      box-shadow: 0px 1px 2px rgba(60, 64, 67, 0.3), 0px 1px 3px 1px rgba(60, 64, 67, 0.15);\n",
              "      fill: #174EA6;\n",
              "    }\n",
              "\n",
              "    [theme=dark] .colab-df-convert {\n",
              "      background-color: #3B4455;\n",
              "      fill: #D2E3FC;\n",
              "    }\n",
              "\n",
              "    [theme=dark] .colab-df-convert:hover {\n",
              "      background-color: #434B5C;\n",
              "      box-shadow: 0px 1px 3px 1px rgba(0, 0, 0, 0.15);\n",
              "      filter: drop-shadow(0px 1px 2px rgba(0, 0, 0, 0.3));\n",
              "      fill: #FFFFFF;\n",
              "    }\n",
              "  </style>\n",
              "\n",
              "      <script>\n",
              "        const buttonEl =\n",
              "          document.querySelector('#df-1ebe5069-54ef-4cad-967e-6513a04ce19c button.colab-df-convert');\n",
              "        buttonEl.style.display =\n",
              "          google.colab.kernel.accessAllowed ? 'block' : 'none';\n",
              "\n",
              "        async function convertToInteractive(key) {\n",
              "          const element = document.querySelector('#df-1ebe5069-54ef-4cad-967e-6513a04ce19c');\n",
              "          const dataTable =\n",
              "            await google.colab.kernel.invokeFunction('convertToInteractive',\n",
              "                                                     [key], {});\n",
              "          if (!dataTable) return;\n",
              "\n",
              "          const docLinkHtml = 'Like what you see? Visit the ' +\n",
              "            '<a target=\"_blank\" href=https://colab.research.google.com/notebooks/data_table.ipynb>data table notebook</a>'\n",
              "            + ' to learn more about interactive tables.';\n",
              "          element.innerHTML = '';\n",
              "          dataTable['output_type'] = 'display_data';\n",
              "          await google.colab.output.renderOutput(dataTable, element);\n",
              "          const docLink = document.createElement('div');\n",
              "          docLink.innerHTML = docLinkHtml;\n",
              "          element.appendChild(docLink);\n",
              "        }\n",
              "      </script>\n",
              "    </div>\n",
              "  </div>\n",
              "  "
            ]
          },
          "metadata": {},
          "execution_count": 46
        }
      ]
    },
    {
      "cell_type": "code",
      "source": [
        "data_df.shape"
      ],
      "metadata": {
        "colab": {
          "base_uri": "https://localhost:8080/"
        },
        "id": "thlH55WqVct2",
        "outputId": "505f836f-c7ec-4d49-bf56-6071d2ca5295"
      },
      "execution_count": null,
      "outputs": [
        {
          "output_type": "execute_result",
          "data": {
            "text/plain": [
              "(14016, 1)"
            ]
          },
          "metadata": {},
          "execution_count": 48
        }
      ]
    },
    {
      "cell_type": "code",
      "source": [
        "data_df.to_excel(\"Language Dataset_Sinhala.xlsx\")"
      ],
      "metadata": {
        "id": "mnbr2sQTTeHR"
      },
      "execution_count": null,
      "outputs": []
    }
  ]
}