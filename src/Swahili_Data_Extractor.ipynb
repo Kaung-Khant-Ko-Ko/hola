{
  "nbformat": 4,
  "nbformat_minor": 0,
  "metadata": {
    "colab": {
      "provenance": []
    },
    "kernelspec": {
      "name": "python3",
      "display_name": "Python 3"
    },
    "language_info": {
      "name": "python"
    }
  },
  "cells": [
    {
      "cell_type": "code",
      "execution_count": 1,
      "metadata": {
        "colab": {
          "base_uri": "https://localhost:8080/"
        },
        "id": "TGFMpnPG1EDF",
        "outputId": "f4940df9-a4ce-486f-e7e9-207655337e92"
      },
      "outputs": [
        {
          "output_type": "stream",
          "name": "stdout",
          "text": [
            "Looking in indexes: https://pypi.org/simple, https://us-python.pkg.dev/colab-wheels/public/simple/\n",
            "Collecting wikipedia\n",
            "  Downloading wikipedia-1.4.0.tar.gz (27 kB)\n",
            "  Preparing metadata (setup.py) ... \u001b[?25l\u001b[?25hdone\n",
            "Requirement already satisfied: beautifulsoup4 in /usr/local/lib/python3.10/dist-packages (from wikipedia) (4.11.2)\n",
            "Requirement already satisfied: requests<3.0.0,>=2.0.0 in /usr/local/lib/python3.10/dist-packages (from wikipedia) (2.27.1)\n",
            "Requirement already satisfied: urllib3<1.27,>=1.21.1 in /usr/local/lib/python3.10/dist-packages (from requests<3.0.0,>=2.0.0->wikipedia) (1.26.16)\n",
            "Requirement already satisfied: certifi>=2017.4.17 in /usr/local/lib/python3.10/dist-packages (from requests<3.0.0,>=2.0.0->wikipedia) (2023.5.7)\n",
            "Requirement already satisfied: charset-normalizer~=2.0.0 in /usr/local/lib/python3.10/dist-packages (from requests<3.0.0,>=2.0.0->wikipedia) (2.0.12)\n",
            "Requirement already satisfied: idna<4,>=2.5 in /usr/local/lib/python3.10/dist-packages (from requests<3.0.0,>=2.0.0->wikipedia) (3.4)\n",
            "Requirement already satisfied: soupsieve>1.2 in /usr/local/lib/python3.10/dist-packages (from beautifulsoup4->wikipedia) (2.4.1)\n",
            "Building wheels for collected packages: wikipedia\n",
            "  Building wheel for wikipedia (setup.py) ... \u001b[?25l\u001b[?25hdone\n",
            "  Created wheel for wikipedia: filename=wikipedia-1.4.0-py3-none-any.whl size=11680 sha256=b347408b50002d1047a4b1302bdfa321e65968bf24673c4b4a3c3d044693a353\n",
            "  Stored in directory: /root/.cache/pip/wheels/5e/b6/c5/93f3dec388ae76edc830cb42901bb0232504dfc0df02fc50de\n",
            "Successfully built wikipedia\n",
            "Installing collected packages: wikipedia\n",
            "Successfully installed wikipedia-1.4.0\n"
          ]
        }
      ],
      "source": [
        "pip install wikipedia"
      ]
    },
    {
      "cell_type": "code",
      "source": [
        "import wikipedia\n",
        "import re\n",
        "import pandas as pd"
      ],
      "metadata": {
        "id": "0kfFZKUA1Vj-"
      },
      "execution_count": 2,
      "outputs": []
    },
    {
      "cell_type": "markdown",
      "source": [
        "# **Testing Sentence Extraction**"
      ],
      "metadata": {
        "id": "Yh92tEdWTIoi"
      }
    },
    {
      "cell_type": "code",
      "source": [
        "wikipedia.set_lang(\"sw\")"
      ],
      "metadata": {
        "id": "H1k5QuVzVa9K"
      },
      "execution_count": 3,
      "outputs": []
    },
    {
      "cell_type": "code",
      "source": [
        "test_result = wikipedia.search(\"Mapinduzi ya Ufaransa\")\n",
        "print(test_result)"
      ],
      "metadata": {
        "colab": {
          "base_uri": "https://localhost:8080/"
        },
        "id": "SqqAFAEy3nBg",
        "outputId": "56d41020-d8ab-40b3-8554-43acbc231f09"
      },
      "execution_count": 4,
      "outputs": [
        {
          "output_type": "stream",
          "name": "stdout",
          "text": [
            "['Mapinduzi ya Ufaransa', 'Bendera ya Ufaransa', 'Haiti', 'Historia ya Haiti', 'Mapinduzi ya Urusi ya 1917', 'Mapinduzi', 'Orodha ya departements za Ufaransa', 'Ufaransa', 'Mapinduzi ya Viwandani', '1789']\n"
          ]
        }
      ]
    },
    {
      "cell_type": "code",
      "source": [
        "test_content_orig = wikipedia.page(test_result[0]).content"
      ],
      "metadata": {
        "id": "q3uq71BM16Y3"
      },
      "execution_count": 5,
      "outputs": []
    },
    {
      "cell_type": "code",
      "source": [
        "test_content_orig[-500:]"
      ],
      "metadata": {
        "colab": {
          "base_uri": "https://localhost:8080/",
          "height": 89
        },
        "id": "cu7oeXGF4Qws",
        "outputId": "bb631c5e-dd94-4095-d989-716df1817a28"
      },
      "execution_count": 6,
      "outputs": [
        {
          "output_type": "execute_result",
          "data": {
            "text/plain": [
              "'ets, Division of Special Collections, University of Alabama Libraries. Over 300 digitised pamphlets, from writers including Robespierre, St. Juste, Desmoulins, and Danton.\\n\"The French Revolution\\'s Legacy\" BBC Radio 4 discussion with Stefan Collini, Anne Janowitz and Andrew Roberts (In Our Time, 14 June 2001)\\nThe Musée de Veygoux - a museum in Auvergne dedicated to the French Revolution and Desaix\\nThe declaration of the Rights of Man and of the Citizen Archived 6 Juni 2013 at the Wayback Machine.'"
            ],
            "application/vnd.google.colaboratory.intrinsic+json": {
              "type": "string"
            }
          },
          "metadata": {},
          "execution_count": 6
        }
      ]
    },
    {
      "cell_type": "code",
      "source": [
        "test_content = test_content_orig.split(\"Viungo vya nje\")[0]\n",
        "test_st = re.sub(r\"==.*?==+\", \"\", test_content)\n",
        "test_st = re.sub(\"(#|\\\\n|\\\\t|\\[([0-9]*?)\\]|\\\\u200d)\", \"\", test_st)"
      ],
      "metadata": {
        "id": "KMesjL_tWKbz"
      },
      "execution_count": 7,
      "outputs": []
    },
    {
      "cell_type": "code",
      "source": [
        "test_st[-400:]"
      ],
      "metadata": {
        "colab": {
          "base_uri": "https://localhost:8080/",
          "height": 71
        },
        "id": "XiRouLD2LbhL",
        "outputId": "dc7c8ef4-a906-4340-fbe3-080ccaa67620"
      },
      "execution_count": 8,
      "outputs": [
        {
          "output_type": "execute_result",
          "data": {
            "text/plain": [
              "'kumbi wa mkutano hadi siku hiyo. Wawakilishi wa bunge la taifa waliamua kukutana mahali penginepo wakaahidiana kutoachana hadi katiba ya taifa itakapokuwa tayari. Mfalme aliamuru waondoke lakini mwenyekiti wao alikataa. Mfalme aliandaa vikosi vya jeshi lakini sehemu za waungwana walimwomba asitumie silaha. Mwishowe mfalme alikata tamaa akaamuru matabaka yote yakae pamoja katika bunge la taifa. == '"
            ],
            "application/vnd.google.colaboratory.intrinsic+json": {
              "type": "string"
            }
          },
          "metadata": {},
          "execution_count": 8
        }
      ]
    },
    {
      "cell_type": "code",
      "source": [
        "test_li = test_st.split(\".\")"
      ],
      "metadata": {
        "id": "ViBf86xMEbYp"
      },
      "execution_count": 9,
      "outputs": []
    },
    {
      "cell_type": "code",
      "source": [
        "test_li[-10:]"
      ],
      "metadata": {
        "colab": {
          "base_uri": "https://localhost:8080/"
        },
        "id": "e6urPjHKGk5K",
        "outputId": "fa9a8ca8-c919-4df8-e371-9695d082e25c"
      },
      "execution_count": 10,
      "outputs": [
        {
          "output_type": "execute_result",
          "data": {
            "text/plain": [
              "['Bunge lilikaa wiki kadhaa bila ya makubaliano juu ya namna ya kupiga kura',\n",
              " ' Baada ya mwezi mmoja sehemu ya mapadri walijiunga na wawakilishi wa tabaka la tatu kutetea azimio lililopelekwa na kasisi Abbe Siyes: tabaka la tatu likajitangaza kuwa linawakilisha asilimia 96 za wananchi likajiita \"bunge la taifa\"',\n",
              " ' Wawakilishi wa waungwana na makasisi wengine walialikwa kujiunga nao kwenye msingi wa kura moja kwa kila mbunge',\n",
              " 'Makasisi wengi na waungwana wachache walifuata wito huo, lakini kundi kubwa la waungwana walikataa wakadai mfalme aingilie kati',\n",
              " ' Mfalme Louis XVI alitangaza mkutano mpya chini ya utaratibu wa kale akafunga ukumbi wa mkutano hadi siku hiyo',\n",
              " ' Wawakilishi wa bunge la taifa waliamua kukutana mahali penginepo wakaahidiana kutoachana hadi katiba ya taifa itakapokuwa tayari',\n",
              " ' Mfalme aliamuru waondoke lakini mwenyekiti wao alikataa',\n",
              " ' Mfalme aliandaa vikosi vya jeshi lakini sehemu za waungwana walimwomba asitumie silaha',\n",
              " ' Mwishowe mfalme alikata tamaa akaamuru matabaka yote yakae pamoja katika bunge la taifa',\n",
              " ' == ']"
            ]
          },
          "metadata": {},
          "execution_count": 10
        }
      ]
    },
    {
      "cell_type": "code",
      "source": [
        "len(test_li)"
      ],
      "metadata": {
        "colab": {
          "base_uri": "https://localhost:8080/"
        },
        "id": "n1QmJxlHHNg6",
        "outputId": "d3cc8247-db04-430b-a3bf-1655ebecb41b"
      },
      "execution_count": 11,
      "outputs": [
        {
          "output_type": "execute_result",
          "data": {
            "text/plain": [
              "59"
            ]
          },
          "metadata": {},
          "execution_count": 11
        }
      ]
    },
    {
      "cell_type": "markdown",
      "source": [
        "# **Collecting Data**"
      ],
      "metadata": {
        "id": "0xomkl2WArqV"
      }
    },
    {
      "cell_type": "code",
      "source": [
        "topics = [\"Mageuzi\", \"Fizikia\", \"Jamhuri ya Watu wa China\", \"Japani\", \"Ujerumani\", \"Korea Kusini\", \"Korea Kaskazini\", \"Vita Kuu ya Kwanza ya Dunia\", \"Vita Kuu ya Pili ya Dunia\", \"Ufaransa\", \"Uthai\", \"Vietnam\", \"Indonesia\", \"Malaysia\", \"Ufilipino\", \"Kamboja\", \"Brunei\", \"Singapuri\", \"Uingereza\", \"Texas\", \"Marekani\", \"Kanada\", \"Kigiriki\", \"Hungaria\", \"Australia\", \"Italia\", \"Hispania\", \"Dunia\", \"Mwezi\", \"Sayari\", \"Tarakilishi\", \"Intaneti\", \"NSDAP\", \"Alan Turing\", \"Akili bandia\", \"Ulimwengu\", \"Mfumo wa Jua\", \"Uhindi\", \"Stephen Hawking\", \"Isaac Newton\", \"Galileo Galilei\", \"Alexander Graham Bell\", \"Kenya\", \"Tanzania\", \"Komori\", \"Uganda\", \"Rwanda\", \"Burundi\", \"Zambia\", \"Malawi\", \"Madagaska\", \"Vita ya Korea\", \"Vita ya Maji Maji\", \"Mapinduzi ya Ufaransa\", \"Ukristo\", \"Historia ya Wokovu\", \"Historia ya Kanisa\", \"Roho Mtakatifu\", \"Kanisa\", \"Kanisa Katoliki\", \"Matendo ya Mitume\", \"Biblia ya Kikristo\", \"Binadamu\", \"Uislamu\", \"Mungu\", \"Musa\", \"Misri\", \"Kurani\", \"Muhammad\", \"Wayahudi\", \"Ethiopia\", \"Mexiko\", \"Ukraine\", \"Afrika Kusini\", \"Brazil\", \"Utafiti\", \"Kumbukumbu la Sheria\", \"Kahawa\", \"Chai\", \"Wali\", \"Michael Faraday\", \"The White Masai\", \"Joseph John Thomson\", \"Erwin Schrödinger\", \"Heinrich Hertz\", \"Alessandro Volta\", \"Georg Simon Ohm\", \"Carl Friedrich Gauss\", \"Nishati ya nyuklia\", \"Henry Moseley\", \"Umeme\", \"André-Marie Ampère\", \"George Washington Carver\", \"Ada Lovelace\", \"Charles Darwin\", \"Louis Pasteur\", \"Nicolaus Copernicus\", \"Carl Linnaeus\", \"Thomas Edison\", \"Archimedes\", \"Mapinduzi ya Viwandani\", \"Urusi\", \"Ufalme wa Muungano\", \"Mfalme Sauli\", \"Hekalu la Yerusalemu\", \"Ibada\", \"Mwenyezi Mungu\", \"Muumba\", \"Israeli ya Kale\", \"Biblia ya Kiebrania\", \"Yoshua\", \"Abrahamu\", \"Yesu\", \"Aleksander Mashuhuri\", \"Ugiriki ya Kale\", \"Aleksandria\", \"Afghanistan\", \"Timor ya Mashariki\", \"Hong Kong\", \"Utamaduni\", \"Anthropolojia ya Kimarekani\", \"Imani\", \"Kiswahili\", \"Biashara\", \"Bara\", \"Enzi ya barafu\", \"Chuo Kikuu cha Witwatersrand\", \"Mapinduzi ya Urusi ya 1917\", \"Mapinduzi ya Kiislamu ya Iran\", \"Rais wa Marekani\", \"Abraham Lincoln\", \"Vita ya wenyewe kwa wenyewe ya Marekani\", \"Ndoto\", \"Historia ya Tanzania\", \"Historia ya Kiswahili\", \"Historia ya Kenya\"]\n",
        "topics"
      ],
      "metadata": {
        "id": "TsjHtavs6HbJ",
        "colab": {
          "base_uri": "https://localhost:8080/"
        },
        "outputId": "cab29f93-9fbb-4cf2-f7c4-1cb5ff679549"
      },
      "execution_count": 12,
      "outputs": [
        {
          "output_type": "execute_result",
          "data": {
            "text/plain": [
              "['Mageuzi',\n",
              " 'Fizikia',\n",
              " 'Jamhuri ya Watu wa China',\n",
              " 'Japani',\n",
              " 'Ujerumani',\n",
              " 'Korea Kusini',\n",
              " 'Korea Kaskazini',\n",
              " 'Vita Kuu ya Kwanza ya Dunia',\n",
              " 'Vita Kuu ya Pili ya Dunia',\n",
              " 'Ufaransa',\n",
              " 'Uthai',\n",
              " 'Vietnam',\n",
              " 'Indonesia',\n",
              " 'Malaysia',\n",
              " 'Ufilipino',\n",
              " 'Kamboja',\n",
              " 'Brunei',\n",
              " 'Singapuri',\n",
              " 'Uingereza',\n",
              " 'Texas',\n",
              " 'Marekani',\n",
              " 'Kanada',\n",
              " 'Kigiriki',\n",
              " 'Hungaria',\n",
              " 'Australia',\n",
              " 'Italia',\n",
              " 'Hispania',\n",
              " 'Dunia',\n",
              " 'Mwezi',\n",
              " 'Sayari',\n",
              " 'Tarakilishi',\n",
              " 'Intaneti',\n",
              " 'NSDAP',\n",
              " 'Alan Turing',\n",
              " 'Akili bandia',\n",
              " 'Ulimwengu',\n",
              " 'Mfumo wa Jua',\n",
              " 'Uhindi',\n",
              " 'Stephen Hawking',\n",
              " 'Isaac Newton',\n",
              " 'Galileo Galilei',\n",
              " 'Alexander Graham Bell',\n",
              " 'Kenya',\n",
              " 'Tanzania',\n",
              " 'Komori',\n",
              " 'Uganda',\n",
              " 'Rwanda',\n",
              " 'Burundi',\n",
              " 'Zambia',\n",
              " 'Malawi',\n",
              " 'Madagaska',\n",
              " 'Vita ya Korea',\n",
              " 'Vita ya Maji Maji',\n",
              " 'Mapinduzi ya Ufaransa',\n",
              " 'Ukristo',\n",
              " 'Historia ya Wokovu',\n",
              " 'Historia ya Kanisa',\n",
              " 'Roho Mtakatifu',\n",
              " 'Kanisa',\n",
              " 'Kanisa Katoliki',\n",
              " 'Matendo ya Mitume',\n",
              " 'Biblia ya Kikristo',\n",
              " 'Binadamu',\n",
              " 'Uislamu',\n",
              " 'Mungu',\n",
              " 'Musa',\n",
              " 'Misri',\n",
              " 'Kurani',\n",
              " 'Muhammad',\n",
              " 'Wayahudi',\n",
              " 'Ethiopia',\n",
              " 'Mexiko',\n",
              " 'Ukraine',\n",
              " 'Afrika Kusini',\n",
              " 'Brazil',\n",
              " 'Utafiti',\n",
              " 'Kumbukumbu la Sheria',\n",
              " 'Kahawa',\n",
              " 'Chai',\n",
              " 'Wali',\n",
              " 'Michael Faraday',\n",
              " 'The White Masai',\n",
              " 'Joseph John Thomson',\n",
              " 'Erwin Schrödinger',\n",
              " 'Heinrich Hertz',\n",
              " 'Alessandro Volta',\n",
              " 'Georg Simon Ohm',\n",
              " 'Carl Friedrich Gauss',\n",
              " 'Nishati ya nyuklia',\n",
              " 'Henry Moseley',\n",
              " 'Umeme',\n",
              " 'André-Marie Ampère',\n",
              " 'George Washington Carver',\n",
              " 'Ada Lovelace',\n",
              " 'Charles Darwin',\n",
              " 'Louis Pasteur',\n",
              " 'Nicolaus Copernicus',\n",
              " 'Carl Linnaeus',\n",
              " 'Thomas Edison',\n",
              " 'Archimedes',\n",
              " 'Mapinduzi ya Viwandani',\n",
              " 'Urusi',\n",
              " 'Ufalme wa Muungano',\n",
              " 'Mfalme Sauli',\n",
              " 'Hekalu la Yerusalemu',\n",
              " 'Ibada',\n",
              " 'Mwenyezi Mungu',\n",
              " 'Muumba',\n",
              " 'Israeli ya Kale',\n",
              " 'Biblia ya Kiebrania',\n",
              " 'Yoshua',\n",
              " 'Abrahamu',\n",
              " 'Yesu',\n",
              " 'Aleksander Mashuhuri',\n",
              " 'Ugiriki ya Kale',\n",
              " 'Aleksandria',\n",
              " 'Afghanistan',\n",
              " 'Timor ya Mashariki',\n",
              " 'Hong Kong',\n",
              " 'Utamaduni',\n",
              " 'Anthropolojia ya Kimarekani',\n",
              " 'Imani',\n",
              " 'Kiswahili',\n",
              " 'Biashara',\n",
              " 'Bara',\n",
              " 'Enzi ya barafu',\n",
              " 'Chuo Kikuu cha Witwatersrand',\n",
              " 'Mapinduzi ya Urusi ya 1917',\n",
              " 'Mapinduzi ya Kiislamu ya Iran',\n",
              " 'Rais wa Marekani',\n",
              " 'Abraham Lincoln',\n",
              " 'Vita ya wenyewe kwa wenyewe ya Marekani',\n",
              " 'Ndoto',\n",
              " 'Historia ya Tanzania',\n",
              " 'Historia ya Kiswahili',\n",
              " 'Historia ya Kenya']"
            ]
          },
          "metadata": {},
          "execution_count": 12
        }
      ]
    },
    {
      "cell_type": "code",
      "source": [
        "len(topics)"
      ],
      "metadata": {
        "colab": {
          "base_uri": "https://localhost:8080/"
        },
        "id": "3opJQ-JPckaj",
        "outputId": "c5a0c015-3b23-46e7-f1a7-0f9e8b4f268c"
      },
      "execution_count": 13,
      "outputs": [
        {
          "output_type": "execute_result",
          "data": {
            "text/plain": [
              "136"
            ]
          },
          "metadata": {},
          "execution_count": 13
        }
      ]
    },
    {
      "cell_type": "code",
      "source": [
        "para = \"\"\n",
        "for topic in topics:\n",
        "  result = wikipedia.search(topic)\n",
        "  print(result)\n",
        "  content_orig = wikipedia.page(result[0]).content\n",
        "  content = content_orig.split(\"Viungo vya nje\")[0]\n",
        "  st = re.sub(r\"==.*?==+\", \"\", content)\n",
        "  st = re.sub(\"(#|\\\\n|\\\\t|\\[([0-9]*?)\\]|\\\\u200d)\", \"\", st)\n",
        "  para += st + \".\""
      ],
      "metadata": {
        "colab": {
          "base_uri": "https://localhost:8080/"
        },
        "id": "DbeGsl8zB1MD",
        "outputId": "67104350-9ea3-42b1-940a-028ea5f9c7f1"
      },
      "execution_count": 14,
      "outputs": [
        {
          "output_type": "stream",
          "name": "stdout",
          "text": [
            "['Mageuzi', 'NCCR-Mageuzi', 'Orodha ya vyama vya siasa Tanzania', 'Historia ya Tunisia', 'Chama cha Ukombozi wa Umma', \"United People's Democratic Party\", 'Tanzania na Shirika la Fedha Duniani', 'James Francis Mbatia', 'Wimbo', 'Eric Charnov']\n",
            "['Fizikia', 'Tuzo ya Nobel ya Fizikia', 'Fizikia ya nyuklia', 'Fizikia ya atomu', 'Kamusi sanifu ya Biolojia, Fizikia na Kemia', 'Utegili (fizikia)', '1995', 'Kemia ya fizikia', 'Kwanta', '1988']\n",
            "['Jamhuri ya Watu wa China', 'Jamhuri ya China', 'Historia ya China', 'Bendera ya China', 'Bandari', 'Taiwan', 'Mongolia ya Kichina', 'Uchina Bara', 'Tibet', 'Majimbo ya China']\n",
            "['Japani', 'Mikoa ya Japani', 'Timu ya Taifa ya Kandanda ya Japani', 'Vita ya Japani na Urusi ya 1905', 'Historia ya Japani', 'Bahari ya Japani', 'Koko wa Japani', 'Akihito wa Japani', 'Saga wa Japani', 'Reizei wa Japani']\n",
            "['Ujerumani', 'Ukoloni wa Ujerumani', 'Ujerumani ya Magharibi', 'Majimbo ya Ujerumani', 'Dola la Ujerumani', 'Rais wa Ujerumani', 'Machansela wa Ujerumani', 'Berlin', 'Jamhuri ya Kidemokrasia ya Kijerumani', 'Historia ya Ujerumani']\n",
            "['Korea Kusini', 'Korea Kaskazini', 'Timu ya Taifa ya Kandanda ya Korea Kusini', 'Rasi ya Korea', 'Vita ya Korea', 'Korea', 'Mlango wa Korea', 'Orodha ya miji ya Korea Kusini', 'Seoul', 'Bahari ya Japani']\n",
            "['Korea Kaskazini', 'Korea Kusini', 'Rasi ya Korea', 'Vita ya Korea', 'Korea', 'Orodha ya miji ya Korea Kaskazini', 'Haki za binadamu nchini Korea Kaskazini', 'Bahari ya Japani', 'Kikorea', 'Kim Il-Sung']\n",
            "['Vita Kuu ya Kwanza ya Dunia', 'Vita Kuu ya Dunia', 'Vita Kuu ya Pili ya Dunia', 'Vita ya Miaka Saba', 'Mataifa ya Kati', 'Togo ya Kijerumani', 'Ikulu ya Tanzania', 'Kampeni za Kivita katika Afrika ya Mashariki (Vita ya Kwanza ya Dunia)', 'Mapigano ya Tanga', 'Kamusi ya Koloni za Kijerumani (1920)']\n",
            "['Vita Kuu ya Pili ya Dunia', 'Vita Kuu ya Dunia', 'Vita Kuu ya Kwanza ya Dunia', 'Mataifa ya ushirikiano', 'Bahari ya Solomon', 'Mwongo', 'Vita baridi', 'Benki ya Dunia', 'Bendera ya Eswatini', 'Kaliningrad']\n",
            "['Ufaransa', 'Orodha ya departements za Ufaransa', \"Eneo la ng'ambo la Ufaransa\", 'Orodha ya Marais wa Ufaransa', 'Historia ya Ufaransa', 'Paris', 'Orodha ya miji ya Ufaransa', 'Timu ya Taifa ya Kandanda ya Ufaransa', 'Jura (Ufaransa)', 'Mapinduzi ya Ufaransa']\n",
            "['Uthai', 'Ghuba ya Uthai', 'Historia ya Uthai', 'Kitonga (Uthai)', 'Orodha ya lugha za Uthai', 'Bangkok', 'Chanathip Songkrasin', 'Thitiphan Puangjan', 'Theerathon Bunmathan', 'Teerasil Dangda']\n",
            "['Vietnam', 'Vietnam Kaskazini', 'Mikoa ya Vietnam', 'Vietnam Kusini', 'Historia ya Vietnam', 'Vita ya Vietnam', 'Vietnam Airlines', 'Umoja wa Kizalendo kwa Ukombozi wa Vietnam Kusini', 'Orodha ya miji ya Vietnam', 'Wafiadini wa Vietnam']\n",
            "['Indonesia', 'Historia ya Indonesia', 'Kibajau cha Indonesia', 'Kidera (Indonesia)', 'Mikoa ya Indonesia', 'Kibati (Indonesia)', 'Kimaba (Indonesia)', 'Kikui (Indonesia)', 'Kisepa (Indonesia)', 'Kibada (Indonesia)']\n",
            "['Malaysia', 'Historia ya Malaysia', 'Malaysia Mashariki', 'Masuala ya mazingira nchini Malaysia', 'Orodha ya Vyuo Vikuu Malaysia', 'Kimurik (Malaysia)', 'Sheria ya Uvuvi ya 1985 (Malaysia)', 'Haki za watoto nchini Malaysia', 'Masuala ya mazingira katika Malaysia', 'Orodha ya lugha za Malaysia']\n",
            "['Ufilipino', 'Bahari ya Ufilipino', 'Historia ya Ufilipino', 'Bamba la Ufilipino', 'Ghuba ya Moro', 'Gloria Macapagal Arroyo', 'Bahari ya Kusini ya China', 'Bahari ya Celebes', 'Waziri', 'Satoshi Otomo']\n",
            "['Kamboja', 'Orodha ya lugha za Kamboja', 'Chan Vathanaka', 'Phnom Penh', 'Kivietnam', 'Lugha za Kiaustro-Asiatiki', 'Kijarai', 'Kilao', 'Kistieng-Bulo', 'Kicham-Magharibi']\n",
            "['Brunei', 'Kibisaya cha Brunei', 'Uislamu nchini Brunei', 'Historia ya Brunei', 'Orodha ya lugha za Brunei', 'Kibrunei', 'Hassanal Bolkiah', 'Allah Peliharakan Sultan', 'Bandar Seri Begawan', 'Kibelait']\n",
            "['Singapuri', 'Orodha ya lugha za Singapuri', 'Anders Aplin', 'Historia ya Singapore', 'Kisindhi', 'Kihindi', 'Kimandarini', 'Kimalay cha Baba', 'Kiorang-Seletar', 'Kichina cha Hakka']\n",
            "['Uingereza', 'Uingereza Mashariki', 'Uingereza Kusini-Mashariki', 'Uingereza Kaskazini-Magharibi', 'Uingereza Kusini-Magharibi', 'Milki ya Uingereza', 'Uingereza Kaskazini-Mashariki', \"Eneo la ng'ambo la Uingereza\", 'Mikoa ya Uingereza', 'Elizabeth II wa Uingereza']\n",
            "['Texas', 'Austin, Texas', 'Houston, Texas', 'Grand Prairie, Texas', 'Texas City, Texas', 'Dallas, Texas', 'Jamhuri ya Texas', 'McAllen, Texas', 'Irving, Texas', 'Fort Worth, Texas']\n",
            "['Marekani', 'Dolar ya Marekani', 'Orodha ya majimbo ya Marekani', 'Senati (Marekani)', 'Rais wa Marekani', 'Orodha ya Marais wa Marekani', 'Jeshi la Marekani', 'Vita ya Marekani dhidi Hispania', \"Eneo la ng'ambo la Marekani\", 'Nyumba ya Wawakilishi ya Marekani']\n",
            "['Kanada', 'Kanada ya Juu', 'Kisiwa cha Viktoria (Kanada)', 'Ontario', 'Quebec', 'Orodha ya miji ya Kanada', 'Beseni la Foxe', 'Ghuba ya Boothia', 'Ghuba ya Amundsen', 'Bahari ya Beaufort']\n",
            "['Kigiriki', 'Alfabeti ya Kigiriki', 'Kiyunani', 'Mitholojia ya Kigiriki', 'Beta', 'Makanisa Katoliki ya Mashariki', 'Ipsilon', 'Psi', 'Ksi', 'Phi']\n",
            "['Hungaria', 'Austria-Hungaria', 'Wilaya za Hungaria', 'Historia ya Hungaria', 'Orodha ya miji ya Hungaria', 'Emeriko wa Hungaria', 'Stefano wa Hungaria', 'Ladislaus I wa Hungaria', 'Elizabeti wa Hungaria', 'Kinga wa Hungaria']\n",
            "['Australia', 'Australia Kusini', 'Australia ya Magharibi', 'Australia na Pasifiki', 'Victoria (Australia)', 'Majimbo na maeneo ya Australia', 'Hori Kuu ya Australia', 'Sydney', 'Bamba la Australia', 'Melbourne']\n",
            "['Italia', 'Italia Kaskazini', 'Italia Kusini', 'Italia ya Kati', 'Bendera ya Italia', 'Italia visiwani', 'Mikoa ya Italia', 'Orodha ya miji ya Italia', 'Rasi ya Italia', 'Massa (Italia)']\n",
            "['Hispania', 'Orodha ya mikoa ya Hispania', 'La Rioja (Hispania)', 'Córdoba, Hispania', 'Vita ya Marekani dhidi Hispania', 'Historia ya Hispania', 'Mkoa wa Jaén (Hispania)', 'Galicia (Hispania)', 'Mkoa wa Córdoba (Hispania)', 'Vita ya wenyewe kwa wenyewe ya Hispania']\n",
            "['Dunia', 'Ganda la dunia', 'Urithi wa Dunia', 'Vita Kuu ya Pili ya Dunia', 'Maajabu ya dunia', 'Kiolwa cha kukaribia dunia', 'Kombe la Dunia la FIFA 2018', 'Muda sanifu wa dunia', 'Vita Kuu ya Kwanza ya Dunia', 'Uga sumaku wa Dunia']\n",
            "['Mwezi', 'Mwezi (wakati)', 'Mwezi mpevu', 'Kalenda ya mwezi', 'Mwezi mpevu sana', 'Ramadan (mwezi)', 'Mwezi mwandamo', 'Kupatwa kwa Mwezi', 'Kalenda ya jua-mwezi', 'Novemba']\n",
            "['Sayari', 'Sayari kibete', 'Sayari-nje', 'Sayari ya Tisa', 'Mpito wa sayari', 'Ceres (sayari kibete)', 'Mfumo wa Jua', 'Mwezi', 'Eris', 'Dunia']\n",
            "['Tarakilishi', 'Tarakilishi mpakato', 'Usakinishaji (tarakilishi)', 'Kupakua (tarakilishi)', 'Sayansi ya tarakilishi', 'Jalada (tarakilishi)', 'Kipepeo tarakilishi', 'Historia ya tarakilishi', 'Rasilimali (tarakilishi)', 'Shughuli za tarakilishi']\n",
            "['Intaneti', 'Barua pepe', 'Historia ya Intaneti', 'Wayback Machine', 'Klabu', 'Tovuti', 'Catholic Encyclopedia', 'Haki ya Kidigitali', 'Kijivu', 'BBC']\n",
            "['NSDAP', 'Sturmabteilung', 'Dola la Tatu', 'Schutzstaffel - SS', 'Ernst Röhm', 'Mkataba wa Versailles', 'Dikteta', 'Maangamizi makuu dhidi ya Wayahudi wa Ulaya', 'George Padmore', 'Adolf Hitler']\n",
            "['Alan Turing', 'Mwanahisabati', 'Karne ya 20', 'Historia ya tarakilishi', 'Makala za msingi - orodha ya meta Feb 2008']\n",
            "['Akili bandia', 'Akili', 'Akili Bandia kwa Majibu ya Dijitali', 'Akili ya binadamu', 'Jaime Carbonell', 'Kim Binsted', 'Catherine Havasi', 'Siddharth Batra', 'Lisa Anthony', 'Daniel G. Bobrow']\n",
            "['Ulimwengu', 'Thomas Ulimwengu', 'Jenerali Ulimwengu', 'Anga-nje', 'Tafsiri ya Ulimwengu Mpya', 'Mwanga wa ulimwengu', 'Kali Yuga', 'Roho', 'Mlipuko mkuu', 'Opereta wa ulimwengu wa Boushaki']\n",
            "['Mfumo wa Jua', 'Jua', 'Upepo wa Jua', 'Ekliptiki', 'Ukanda wa Kuiper', 'Kupatwa kwa Jua', 'Wingu la Oort', 'Ukanda wa asteroidi', 'Sayari', 'Mpito wa sayari']\n",
            "['Uhindi', 'Majimbo ya Uhindi', 'Uhindi ya Kiingereza', 'Kampuni ya Kiingereza kwa Uhindi ya Mashariki', 'Historia ya Uhindi', 'Orodha ya miji ya Uhindi', 'Punjab (Uhindi)', 'Daman, Uhindi', 'Bamba la Uhindi', 'Kibodo (Uhindi)']\n",
            "['Stephen Hawking', 'Ukanamungu', 'Sklerosisi ya kimiotrofia ya pembezoni', 'ʻOumuamua', 'Chuo Kikuu cha Cape Town', 'Isaac Newton']\n",
            "['Isaac Newton', 'Newton', 'Mlinganyo tenguo', 'Eunice Newton Foote', 'Nyutoni', 'Robert Hooke', 'Nadharia ya uhusianifu', '1642', '1727', 'Uchambuzi wa kihisabati']\n",
            "['Galileo Galilei', 'Galileo (kipimaanga)', 'Sayansi', 'Io (Mshtarii)', 'Kallisto (Mshtarii)', '1642', '1564', 'Marin Mersenne', '5 Februari', 'Firenze']\n",
            "['Alexander Graham Bell', 'Bell', 'Antonio Meucci', 'Desibeli', 'Simu', '1847', '3 Machi', '2 Agosti', '1922', 'Spika (muziki)']\n",
            "['Kenya', 'Orodha ya Marais wa Kenya', 'Meru, Kenya', 'Mlima Kenya', 'Uchaguzi nchini Kenya', 'Utalii nchini Kenya', 'Malindi (Kenya)', 'Katiba ya Kenya', 'Kaunti za Kenya', 'Mlolongo, Kenya']\n",
            "['Tanzania', 'Wabunge wa Tanzania 2005', 'Mikoa ya Tanzania', 'Benki Kuu ya Tanzania', 'Orodha ya Marais wa Tanzania', 'Wilaya za Tanzania', 'Utalii nchini Tanzania', 'Mfumo wa Msimbo wa Posta Tanzania', 'Orodha ya vyama vya siasa Tanzania', 'Orodha ya miji ya Tanzania']\n",
            "['Komori', 'Orodha ya miji ya Komori', 'Moroni (Komori)', 'Historia ya Komori', 'Sima (Komori)', 'Chandra (Komori)', 'Uislamu nchini Komori', 'Orodha ya Marais wa Komori', 'Shikomor', 'Anjouan']\n",
            "['Uganda', 'Mkoa wa Kaskazini, Uganda', 'Wilaya za Uganda', 'Kumi (Uganda)', 'Busia, Uganda', 'Masaka (Uganda)', 'Orodha ya miji ya Uganda', 'Mto Kazinga (Uganda)', 'Utalii nchini Uganda', 'Kalungu (Uganda)']\n",
            "['Rwanda', 'Orodha ya miji ya Rwanda', 'Orodha ya Marais wa Rwanda', 'Uislamu nchini Rwanda', 'Historia ya Rwanda', 'Nyanza (Rwanda)', 'Orodha ya Mawaziri Wakuu wa Rwanda', 'Mauaji ya kimbari ya Rwanda', 'Orodha ya Wafalme wa Rwanda', 'Mahakama ya Kimataifa ya Jinai ya Rwanda']\n",
            "['Burundi', 'Mikoa ya Burundi', 'Ngozi (Burundi)', 'Orodha ya mito ya Burundi', 'Mkoa wa Ngozi', 'Uislamu nchini Burundi', 'Utalii wa Burundi', 'Muziki wa Burundi', 'Historia ya Burundi', 'Chama cha Skauti Burundi']\n",
            "['Zambia', 'Mkoa wa Kaskazini (Zambia)', 'Orodha ya miji ya Zambia', 'Mkoa wa Magharibi (Zambia)', 'Mkoa wa Mashariki (Zambia)', 'Orodha ya Marais wa Zambia', 'Mkoa wa Kusini (Zambia)', 'Mapishi ya Zambia', 'Kabwe, Zambia', 'Uislamu nchini Zambia']\n",
            "['Malawi', 'Wilaya za Malawi', 'Orodha ya Marais wa Malawi', 'Orodha ya miji ya Malawi', 'Kanda ya Kusini, Malawi', 'Soko la Hisa la Malawi', 'Utalii nchini Malawi', 'Kanda ya Kaskazini, Malawi', 'Kinyiha cha Malawi', 'Nyasa (ziwa)']\n",
            "['Madagaska', 'Orodha ya miji ya Madagaska', 'Mikoa ya Madagaska', 'Orodha ya Mawaziri Wakuu wa Madagaska', 'Ukataji miti nchini Madagaska', 'Sofia (Madagaska)', 'Historia ya Madagaska', 'Orodha ya lugha za Madagaska', 'Toamasina', 'Fianarantsoa']\n",
            "['Vita ya Korea', 'Korea Kaskazini', 'Rasi ya Korea', 'Vita ya Japani na Urusi ya 1905', 'Vita baridi', 'Wafiadini wa Korea', 'Lee Byung-chul', 'Pyongyang', 'Dwight D. Eisenhower', 'Richard Alan Enslen']\n",
            "['Vita ya Maji Maji', 'Vita vya Kagera', 'Vita ya Japani na Urusi ya 1905', 'Uendo wa historia ya Tanzania', 'Majimaji', 'Jeshi la majini', 'Vita ya Abushiri', 'Bahari ya Kusini ya China', 'Vita ya Krim', 'Ghuba ya Uajemi']\n",
            "['Mapinduzi ya Ufaransa', 'Bendera ya Ufaransa', 'Haiti', 'Historia ya Haiti', 'Mapinduzi ya Urusi ya 1917', 'Mapinduzi', 'Orodha ya departements za Ufaransa', 'Ufaransa', 'Mapinduzi ya Viwandani', '1789']\n",
            "['Ukristo', 'Ukristo wa Mashariki', 'Kanisa la Magharibi', 'Utetezi wa Ukristo', 'Ukristo na dini nyingine', 'Ukristo nchini Tanzania', 'Ukristo katika karne za kwanza', 'Ukristo nchini Kenya', 'Ukristo barani Afrika', 'Ukristo barani Amerika']\n",
            "['Historia ya Wokovu', 'Wokovu', 'Historia ya Israel', 'Historia', 'Waraka kwa Waefeso', 'Mambo ya Nyakati II', 'Mambo ya Nyakati I', 'Waraka wa Yakobo', 'Injili ya Luka', 'Historia ya Kanisa']\n",
            "['Historia ya Kanisa', 'Historia ya Kanisa Katoliki', 'Historia', 'Kanisa Katoliki', 'Historia ya Utawa', 'Kanisa la Magharibi', 'Mwalimu wa Kanisa', 'Kanisa la Kilatini', 'Mwaka wa Kanisa', 'Sifa nne za Kanisa']\n",
            "['Roho Mtakatifu', 'Vipaji vya Roho Mtakatifu', 'Utatu', 'Roho', 'Shauri (kipaji)', 'Kipaimara', 'Akili (kipaji)', 'Polikarpo Mtakatifu', 'Uwemo wa Utatu Mtakatifu rohoni', 'Nguvu (kipaji)']\n",
            "['Kanisa', 'Kanisa Katoliki', 'Kanisa la Kilatini', 'Kanisa kuu', 'Sifa nne za Kanisa', 'Babu wa Kanisa', 'Mwalimu wa Kanisa', 'Kanisa la Magharibi', 'Mwaka wa Kanisa', 'Kanisa la Asiria']\n",
            "['Kanisa Katoliki', 'Kanisa la Kilatini', 'Makanisa Katoliki ya Mashariki', 'Kanisa Katoliki la Waethiopia', 'Kanisa Katoliki la Wakopti', 'Kanisa Katoliki la Waeritrea', 'Kanisa Katoliki la Kimelkiti', 'Utetezi wa Kanisa Katoliki', 'Orodha ya Makardinali', 'Katoliki']\n",
            "['Matendo ya Mitume', 'Mitume wa Yesu', 'Kos', 'Misia', 'Timone mwinjilisti', 'Yakobo Mdogo', 'Kanisa la Roma', 'Njia', 'Liturujia ya Mesopotamia', 'Timotheo']\n",
            "['Biblia ya Kikristo', 'Biblia', 'Biblia ya Kiebrania', 'Maombolezo (Biblia)', 'Biblia Habari Njema', 'Biblia (Union Version)', 'Kitabu cha Mhubiri', 'Kitabu cha Zaburi', 'Kanuni ya Biblia', 'Mambo ya Nyakati II']\n",
            "['Binadamu', 'Haki za binadamu', 'Haki za binadamu nchini Kenya', 'Azimio la Kimataifa juu ya Haki za Binadamu', 'Mkutano wa Kimataifa juu ya Haki za Binadamu', 'Shughuli za binadamu', 'Kinyesi cha binadamu', 'Ofisi ya kamishna mkuu wa haki za binadamu', 'Akili ya binadamu', 'Mwili']\n",
            "['Uislamu', 'Uislamu nchini Moroko', 'Uislamu nchini Djibouti', 'Uislamu nchini Gambia', 'Uislamu katika Sahara Magharibi', 'Uislamu nchini Algeria', 'Uislamu barani Afrika', 'Uislamu nchini Benin', 'Uislamu nchini Libya', 'Uislamu nchini Afghanistan']\n",
            "['Mungu', 'Ufalme wa Mungu', 'Mungu Baba', 'Mwenyezi Mungu', 'Mungu Mwana', 'Mwana wa Mungu', 'Yohane wa Mungu', 'Umoja wa Mungu', 'Mama wa Mungu Derzhavnaya', 'Mama wa Mungu']\n",
            "['Musa', 'Mansa Musa', 'Mto Musa', 'Ahmed Musa', 'Musa Sukwene', 'Musa Mwafrika', 'Eliezeri (bin Musa)', 'Mto Musa (Singida)', 'Mto Musa (Ruvu)', 'Foday Musa Suso']\n",
            "['Misri', 'Misri ya Kale', 'Mikoa ya Misri', 'Historia ya Misri', 'Jeshi la Misri', 'Misri (1805-1881)', 'Liturujia ya Misri', 'Kukimbilia Misri', 'Memphis, Misri', 'Utalii nchini Misri']\n",
            "['Kurani', 'Mariamu katika Kurani', 'Madrasa', 'Uthman ibn Affan', 'Sifa za Bikira Maria', 'Farao', 'Adamu', 'Kupashwa habari', 'Fiqhi', 'Ufunuo']\n",
            "['Muhammad', 'Elijah Muhammad', 'Muhammad Ali Pasha', 'Muhammad Ali', 'Muhammad Amour Chomboh', 'Muhammad Ali (maana)', 'Hadithi za Mtume Muhammad', 'Muhammad Ibrahim Sanya', 'Ali bin Muhammad', 'Sheikh Muhammad Mansour Haji']\n",
            "['Wayahudi', 'Afro Wayahudi', 'Maangamizi makuu dhidi ya Wayahudi wa Ulaya', 'Wayahudi saba na mama yao', 'INRI', 'Uyahudi', 'Kitabu cha Esta', 'Kumbukizi ya Kimataifa ya Maangamizi ya Wayahudi', 'Sinagogi', 'Watakatifu wa Agano la Kale']\n",
            "['Ethiopia', 'Majimbo ya Ethiopia', 'Orodha ya miji ya Ethiopia', 'Kanisa la Kiorthodoksi la Ethiopia', 'Historia ya Ethiopia', 'Utalii nchini Ethiopia', 'Orodha ya Mawaziri Wakuu wa Ethiopia', 'Kalenda ya Ethiopia', 'Ethiopia, furahi', 'Bendera ya Ethiopia']\n",
            "['Mexiko', 'Nembo ya Mexiko', 'Bendera ya Mexiko', 'Mexico (mji)', 'Texas', 'Baja California Sur', 'Morelos', 'Aguascalientes (jimbo)', 'Azteki', 'Guadalajara, Jalisco']\n",
            "['Ukraine', 'Historia ya Ukraine', 'Nikopol, Ukraine', 'Orodha ya miji ya Ukraine', 'Bendera ya Ukraine', 'Khmelnytskyi', 'Sevastopol', 'Kiev', 'Donetsk', 'Kryvyi Rih']\n",
            "['Afrika Kusini', 'Afrika ya Kusini', 'Kusini kwa Sahara', 'Rais wa Afrika Kusini', 'Afrika ya Kusini-Magharibi', 'Historia ya Afrika Kusini', 'Orodha ya hospitali nchini Afrika Kusini', 'Kisotho-Kusini', 'Timu ya Taifa ya Kandanda ya Afrika Kusini', 'Bendera ya Afrika Kusini']\n",
            "['Brazil', 'Orodha ya majimbo ya Brazil', 'Timu ya Taifa ya Kandanda ya Brazil', 'Amazonas, Brazil', 'Homa ya hemoreji ya Brazil', 'Nyanda za juu za Brazil', 'Distrito Federal (Brazil)', 'Santa Catarina', 'Masijala ya Taifa (Brazil)', 'Bendera ya Brazil']\n",
            "['Utafiti', 'Maadili ya utafiti', 'Utafiti wa soko', 'Baraza la Utafiti wa Mazingira Asilia (Uingereza)', 'Kituo cha Ufaransa cha utafiti wa kisayansi', 'Taasisi ya Utafiti wa Kakao ya Nigeria', 'Biolojia', 'Profesa', 'Taasisi', 'Taasisi ya Utafiti ya Amani']\n",
            "['Kumbukumbu la Sheria', 'Agano la Kale', 'Sefania', 'Sheria za soka', 'Kitabu cha Sefania', 'Waanglikana', 'Uandishi', 'Idara ya Kumbukumbu na Nyaraka za Taifa Tanzania', '17 Julai', 'Refa msaidizi wa video']\n",
            "['Kahawa', 'Kahawa (maana)', 'Kahawa, Nairobi', 'Kahawa West', 'Kahawa, Kenya', 'Uzalishaji wa kahawa nchini Kenya', 'Kahawa Wendani', 'Kahawa Sukari', 'Kinywaji', 'Kahawia']\n",
            "['Chai', 'Maji ya Chai', 'Mto Chai', 'Chai Jing', 'Kericho', 'Mto Chai (Uganda)', 'Mto Chai Kidogo', 'Kinywaji', 'Mponde', 'Kikombe']\n",
            "['Wali', 'Wali wa kukaanga', 'Ziwa Bandari ya Wali', 'Liwali', 'Wandamba', 'Mchele', 'Kitoweo', 'Ukoko', 'Mchele wa kuoka', 'Mapishi']\n",
            "['Michael Faraday', 'Dainamo', 'Mshumaa', 'Sumaku', 'Umeme', 'Sayansi', 'Lost', 'Makala za msingi - orodha ya meta Feb 2008']\n",
            "['The White Masai', 'Nini Wacera', 'Waogiek', 'Chama cha Wawindaji wa Kitaaluma cha Afrika Mashariki', 'Mbuzi-kaya', 'Swala pala', 'Ngamia', 'Kiboko (mnyama)', 'Nyati wa Afrika', 'Kulungu Mwekundu wa Atlas']\n",
            "['Joseph John Thomson', 'George Paget Thomson', '18 Desemba', '1940', '1856', 'Tuzo ya Nobel ya Fizikia', '30 Agosti', '1975', 'Tuzo ya Pulitzer ya Muziki', 'Sosholojia']\n",
            "['Erwin Schrödinger', 'Karne ya 20', 'Tuzo ya Nobel ya Fizikia', 'Arthur Schopenhauer', 'Ukanamungu', 'Austria', 'Fizikia', 'Makala za msingi - orodha ya meta Feb 2008', 'Maana ya maisha']\n",
            "['Heinrich Hertz', 'Hezi', 'Wimbiredio', 'Redio', 'Tuzo ya Nobel ya Fizikia', 'Tuzo ya Nobel']\n",
            "['Alessandro Volta', 'Betri', 'Volti', 'Georg Simon Ohm', 'Karne ya 18', 'Umeme', 'Italia', 'André-Marie Ampère', 'Ziwa Maggiore']\n",
            "['Georg Simon Ohm', 'Umeme']\n",
            "['Carl Friedrich Gauss', 'Mwanahisabati', 'Nadharia ya namba', 'Robert Bunsen', 'Jiodesia', 'Hisabati', 'Makala za msingi - orodha ya meta Feb 2008']\n",
            "['Nishati ya nyuklia', 'Shirika la Kimataifa la Nishati ya Nyuklia', 'Nishati ya mwanga', 'Bomu la nyuklia', 'Mwatuko wa nyuklia', 'Tanuri la nyuklia', 'Myeyungano wa kinyuklia', 'Kilotani', 'Maafa ya Chernobyl', 'Maandamano dhidi ya nishati ya kinyuklia Marekani']\n",
            "['Henry Moseley', 'Mfumo radidia']\n",
            "['Umeme', 'Kituo cha umeme', 'Mkunga-umeme', 'Mkondo wa umeme', 'Uhandisi wa umeme', 'Umeme wa upepo', 'Umemenuru', 'Treni ya umeme', 'Injini', 'Mtagusano sumakuumeme']\n",
            "['André-Marie Ampère', 'Ampea']\n",
            "['George Washington Carver', 'Sayansi ya kilimo']\n",
            "['Ada Lovelace', 'Ada (lugha ya programu)', 'Historia ya tarakilishi']\n",
            "['Charles Darwin', 'Galapagos', 'Ernst Haeckel', '1809', 'Kamafleji', '19 Aprili', '1882', 'Uainishaji wa kisayansi', '12 Februari', 'Julian Huxley']\n",
            "['Louis Pasteur', 'Upasteurishaji', 'Biotekinolojia', 'Kingamwili', 'Karne ya 19', 'Bakteriolojia', 'Mikrobiolojia', 'Sayansi ya kilimo', 'Ufaransa', 'Orodha ya hospitali nchini Afrika Kusini']\n",
            "['Nicolaus Copernicus', '1543', '1473', '24 Mei', '19 Februari', 'Almagesti', 'Galileo Galilei', 'Makala za msingi - orodha ya meta Feb 2008']\n",
            "['Carl Linnaeus', '1707', '1778', 'Majina ya kisayansi', '23 Mei', 'Uainishaji wa kisayansi', '10 Januari', 'Chui', 'Kilatini', 'Biolojia']\n",
            "['Thomas Edison', 'Nikola Tesla', 'Balbu', 'Karne ya 19', 'Pelé', 'Ilhan Omar', 'Bill Hader', 'Sean Cameron Michael', 'Bondia', 'Makala za msingi - orodha ya meta Feb 2008']\n",
            "['Archimedes', 'Kanuni ya Archimedes', '287 KK', '212 KK', 'Rafadha', 'Mwanahisabati', 'Maktaba ya Aleksandria', 'Pampu', 'Eleveta', 'Wenzo']\n",
            "['Mapinduzi ya Viwandani', 'Karne ya 19', 'Mapinduzi ya Urusi ya 1917', 'Chuma cha pua', 'Leeds', 'Brussels', 'Kiev', 'Mapatano ya msingi ya UM kuhusu Mabadiliko ya Tabianchi', 'Kiwanda', 'Familia']\n",
            "['Urusi', 'Oblast ya Urusi', 'Orodha ya Marais wa Urusi', 'Orodha ya visiwa vya Urusi', 'Orodha ya mito ya Urusi', 'Jamhuri ya Urusi', 'Historia ya Urusi', 'Maeneo ya Shirikisho la Urusi', 'Orodha ya milima ya Urusi', 'Orodha ya maziwa ya Urusi']\n",
            "['Ufalme wa Muungano', 'Historia ya Ufalme wa Muungano', 'Orodha ya miji ya Ufalme wa Muungano', 'Ufalme wa Israeli', 'Uingereza', 'Serikali ya muungano', 'Chuo Kikuu cha Cambridge', 'Aberdeen', 'Britania', 'Bahari ya Eire']\n",
            "['Mfalme Sauli', 'Daudi (Biblia)', 'Vitabu vya Samweli', 'Karne ya 11 KK', 'Abinadabu', 'Samueli II', 'Samueli I', 'Amalek', 'Samweli', 'Kabila la Benyamini']\n",
            "['Hekalu la Yerusalemu', 'Hekalu', 'Ukuta wa Maombolezo', 'Shilo', 'Yerusalemu', 'Kuhani', 'Yosia', 'Hanukkah', 'Masadukayo', 'Nabii Hagai']\n",
            "['Ibada', 'Ibada (kipaji)', 'Jumuiya ya ibada za nyumba kwa nyumba', 'Kanisa la Kilatini', 'Huduma', 'Maabadi', 'Uislamu', 'Hekalu', 'Kaburi', 'Upadirisho']\n",
            "['Mwenyezi Mungu', 'Mungu', 'Huruma ya Mungu', 'Isa', 'Historia ya Uislamu', 'Saumu', 'Pantokrator', 'ZAKA NA KAZI YAKE', 'Miungu', 'Fadhila']\n",
            "['Muumba', 'Nomino za dhahania', 'Uumbaji', 'Heri', 'Uislamu', 'Allah', 'Mwenyezi Mungu', 'Wagikuyu', 'Visasili vya Kimasai', 'Kitabu cha Yuditi']\n",
            "['Israeli ya Kale', 'Israeli (maana)', 'Wanaisraeli', 'Yakobo Israeli', 'Israel', 'Agano la Kale', 'Mapambano kati ya Israeli na Palestina', 'Miaka ya 970 KK', 'Nabii Obadia', 'Watakatifu wa Agano la Kale']\n",
            "['Biblia ya Kiebrania', 'Kiebrania', 'Maombolezo (Biblia)', 'Biblia', 'Biblia ya Kikristo', 'Agano la Kale', 'Usi (Biblia)', 'Kitabu cha Zaburi', 'Kitabu cha Methali', 'YHWH']\n",
            "['Yoshua', 'Kitabu cha Yoshua', 'Kitabu cha Yoshua bin Sira', 'Watakatifu wa Agano la Kale', 'Karne ya 13 KK', 'Agano la Kale', 'Kitabu cha Hagai', 'Kabila la Simeoni', 'Rahabu', 'Kabila la Dan']\n",
            "['Abrahamu', 'Abrahamu wa Aleksandria', 'Dini za Abrahamu', 'Abrahamu wa Ethiopia', 'Abrahamu wa Farshut', 'Abrahamu Fukara', 'Abrahamu wa Skete', 'Abrahamu wa Faiyum', 'Yakobo, Abrahamu na Yohane', 'Watakatifu wa Agano la Kale']\n",
            "['Yesu', 'Utoto wa Yesu', 'Msalaba wa Yesu', 'Yesu katika sanaa', 'Ufufuko wa Yesu', 'Ukoo wa Yesu', 'Masiya', 'Utume wa Yesu', 'Jina takatifu la Yesu', 'Ndugu wa Yesu']\n",
            "['Aleksander Mashuhuri', 'Ptolemaio I', 'Frigia', 'Seleuko I', '323 KK', '11 Juni', 'Nasaba ya Waptolemaio', 'Karachi', 'Milki ya Kiptolemaio', 'Aristoteli']\n",
            "['Ugiriki ya Kale', 'Mitholojia ya Kigiriki', 'Historia ya Ugiriki', 'Athens', 'Maajabu ya dunia', 'Mwanafalsafa', 'Alfabeti ya Kigiriki', 'Parthenon', 'Herodoti', 'Kiyunani']\n",
            "['Aleksandria', 'Chuo cha Kikristo cha Aleksandria', 'Mnara wa taa wa Aleksandria', 'Mkoa wa Aleksandria', 'Atanasi wa Aleksandria', 'Achilas wa Aleksandria', 'Yusto wa Aleksandria (askofu)', 'Shule ya Aleksandria', 'Klemens wa Aleksandria', 'Petro I wa Aleksandria']\n",
            "['Afghanistan', 'Uislamu nchini Afghanistan', 'Historia ya Afghanistan', 'Orodha ya lugha za Afghanistan', 'Taliban', 'Kabul', 'Kiajemi', 'Panjshir', 'Rangina Hamidi', 'Chékéba Hachemi']\n",
            "['Timor ya Mashariki', 'Historia ya Timor Mashariki', 'Timor', 'Orodha ya lugha za Timor-Mashariki', 'Asia ya Kusini-Mashariki', 'Dili', 'Wellington Rocha', 'Fellipe Bertoldo', 'Murilo de Almeida', 'Bahari ya Timor']\n",
            "['Hong Kong', 'Alex Tayo Akande', 'Uchina Bara', 'Cathay Pacific', 'Robert Chung', 'John Woo', 'Bruce Lee', 'Who Am I?', 'Majimbo ya China', 'Lawrence Akandu']\n",
            "['Utamaduni', 'UNESCO', 'Utamaduni wa Kiafrika', 'Orodha ya Urithi wa Dunia katika Afrika', 'Utamaduni wa Nigeria', 'Utamaduni wa vijana', 'Utamaduni wa Kitanzania', 'Magharibi', 'Mila', 'Wizara ya Utamaduni na Utalii (Uturuki)']\n",
            "['Anthropolojia ya Kimarekani', 'Anthropolojia', 'Steven Rubenstein', 'Utamaduni', 'Brittney Exline', 'Sipho Mabuse']\n",
            "['Imani', 'Kanuni ya Imani', 'Imani sahihi', 'Kanuni ya Imani ya Nisea-Konstantinopoli', 'Imani na sheria', 'Kanuni ya Imani ya Mitume', 'Imani ya Kanisa', 'Wafiadini wa imani sahihi wa Aleksandria (9 Februari)', 'Imani ya Athanasio', 'Uislamu']\n",
            "['Kiswahili', 'Taasisi ya Taaluma za Kiswahili', 'Uenezi wa Kiswahili', 'Asili ya Kiswahili', 'Kamusi za Kiswahili', 'Lahaja za Kiswahili', 'Wikipedia ya Kiswahili', 'Klabu za Kiswahili', 'Baraza la Kiswahili la Taifa', 'Kamusi Kuu ya Kiswahili']\n",
            "['Biashara', 'Biashara ya watumwa', \"Biashara ya ng'ambo ya Sahara\", 'Biashara ya utumwa kupitia Atlantiki', 'Zao la biashara', 'Mpango wa Biashara', 'Shirika la Biashara Duniani', 'Ukomeshaji wa Biashara ya Watumwa', 'Biashara ya misafara', 'Benki ya Biashara ya Akiba']\n",
            "['Bara', 'Bara la Antaktiki', 'Bara Arabu', 'Bara Hindi', 'Uchina Bara', 'Kimalagasy cha Bara', 'Asia', 'Choroa', 'Tako la bara', 'Afrika']\n",
            "['Enzi ya barafu', 'Barafuto', 'Bahari ya Arafura', 'Bahari ya Baltiki', 'Bahari kuu', 'Mlango wa Bering', 'Hori ya Chesapeake', 'Hifadhi ya Taifa ya Lopé', 'Historia ya Ufini', 'Nyanda za Chini za Ulaya ya Kaskazini']\n",
            "['Chuo Kikuu cha Witwatersrand', 'Chuo Kikuu', 'Jeremy Wafer', 'John Miles', 'Isabel Hofmeyr', 'Dan Jacobson', 'Judith Mason', 'Orodha ya Vyuo Vikuu vya Afrika Kusini', 'Nina Barnett', 'Phaswane Mpe']\n",
            "['Mapinduzi ya Urusi ya 1917', 'Vladimir Lenin', 'Historia ya Kazakhstan', 'Tsar', 'Nchi za Kibalti', 'Vladimir Mkuu', 'Urusi', 'Historia ya Urusi', 'Umoja wa Kisovyeti', 'Mapinduzi']\n",
            "['Mapinduzi ya Kiislamu ya Iran', 'Historia ya Iran', 'Idhaa ya Kiswahili ya Radio Tehran', 'Uajemi', 'Ali Khamenei', 'Hijabu', 'Maryam Namazie', 'Vita kati ya Irak na Uajemi', 'Qasem Soleimani', 'Utamaduni wa Irani']\n",
            "['Rais wa Marekani', 'Orodha ya Marais wa Marekani', 'Rais', 'Uchaguzi wa Rais wa Marekani, 2012', 'Uchaguzi wa Rais wa Marekani, 1996', 'Uchaguzi wa Rais wa Marekani, 1912', 'Uchaguzi wa Rais wa Marekani, 1964', 'Uchaguzi wa Rais wa Marekani, 1892', 'Uchaguzi wa Rais wa Marekani, 2016', 'Uchaguzi wa Rais wa Marekani, 1992']\n",
            "['Abraham Lincoln', 'Chuo Kikuu cha Abraham Lincoln', 'Lincoln', 'Andrew Johnson', 'Hannibal Hamlin', 'Uchaguzi wa Rais wa Marekani, 1864', 'Uchaguzi wa Rais wa Marekani, 1860', 'Carl Sandburg', 'Mount Rushmore', '1809']\n",
            "['Vita ya wenyewe kwa wenyewe ya Marekani', 'Vita ya wenyewe kwa wenyewe', 'Shirikisho la Madola ya Marekani', 'Harriet Tubman', 'Nebraska', 'Virginia', 'Vita', 'Jefferson Davis', 'Vita Kuu ya Pili ya Dunia', 'Maryland']\n",
            "['Ndoto', 'Ndoto ya Amerika', 'Ndoto Hub', 'Ndoto (Samburu)', 'Njozi', 'Angela Petrelli', 'Ndoto ya chumba chekundu', 'Kukimbilia Misri', 'Seven Minutes to Midnight (Heroes)', 'Kurudi Nazareti']\n",
            "['Historia ya Tanzania', 'Uendo wa historia ya Tanzania', 'Tanzania', 'Historia ya Zanzibar', 'Mikoa ya Tanzania', 'Historia ya Afrika', 'Historia ya Kanisa', 'Benki Kuu ya Tanzania', 'Tanganyika', 'Muungano wa Tanganyika na Zanzibar']\n",
            "['Historia ya Kiswahili', 'Kiswahili', 'Taasisi ya Taaluma za Kiswahili', 'Asili ya Kiswahili', 'Uenezi wa Kiswahili', 'Historia Kuu ya Afrika', 'Kamusi za Kiswahili', 'Baraza la Kiswahili la Taifa', 'Tuzo ya Kiswahili ya Mabati Cornell', 'Kamusi Kuu ya Kiswahili']\n",
            "['Historia ya Kenya', 'Kenya', 'Historia ya Nairobi', 'Historia ya Afrika', 'Katiba ya Kenya', 'Mlima Kenya', 'Kenya Commercial Bank', 'Meru, Kenya', 'Timu ya Taifa ya Kandanda ya Kenya', 'Kenya National Bureau of Statistics']\n"
          ]
        }
      ]
    },
    {
      "cell_type": "code",
      "source": [
        "data = para.split(\".\")"
      ],
      "metadata": {
        "id": "qzOWdInrDsyJ"
      },
      "execution_count": 15,
      "outputs": []
    },
    {
      "cell_type": "code",
      "source": [
        "len(data)"
      ],
      "metadata": {
        "colab": {
          "base_uri": "https://localhost:8080/"
        },
        "id": "gi9k0WwiDycJ",
        "outputId": "4c77faca-c329-4232-ad95-b789f5a26086"
      },
      "execution_count": 16,
      "outputs": [
        {
          "output_type": "execute_result",
          "data": {
            "text/plain": [
              "13608"
            ]
          },
          "metadata": {},
          "execution_count": 16
        }
      ]
    },
    {
      "cell_type": "markdown",
      "source": [
        "# **Saving the Extracted Sentences**"
      ],
      "metadata": {
        "id": "mctr_6YgTSSd"
      }
    },
    {
      "cell_type": "code",
      "source": [
        "data_df = pd.DataFrame(data)\n",
        "data_df.head()"
      ],
      "metadata": {
        "colab": {
          "base_uri": "https://localhost:8080/",
          "height": 206
        },
        "id": "JYzm7fqTSs_B",
        "outputId": "6a637776-f0a6-4bbc-9e87-a797448c9c0b"
      },
      "execution_count": 17,
      "outputs": [
        {
          "output_type": "execute_result",
          "data": {
            "text/plain": [
              "                                                   0\n",
              "0  Mageuzi (kwa Kiingereza: \"reform\") ni mabadili...\n",
              "1                                  Mageuko ya spishi\n",
              "2  Fizikia (kutoka neno la Kigiriki φυσικός, phys...\n",
              "3  Ni taaluma yenye kushughulika na maada na uhus...\n",
              "4  Fizikia imetoa mchango mkubwa katika sayansi, ..."
            ],
            "text/html": [
              "\n",
              "  <div id=\"df-f728dde3-fe0e-4fee-9c6c-d244ff2124c1\">\n",
              "    <div class=\"colab-df-container\">\n",
              "      <div>\n",
              "<style scoped>\n",
              "    .dataframe tbody tr th:only-of-type {\n",
              "        vertical-align: middle;\n",
              "    }\n",
              "\n",
              "    .dataframe tbody tr th {\n",
              "        vertical-align: top;\n",
              "    }\n",
              "\n",
              "    .dataframe thead th {\n",
              "        text-align: right;\n",
              "    }\n",
              "</style>\n",
              "<table border=\"1\" class=\"dataframe\">\n",
              "  <thead>\n",
              "    <tr style=\"text-align: right;\">\n",
              "      <th></th>\n",
              "      <th>0</th>\n",
              "    </tr>\n",
              "  </thead>\n",
              "  <tbody>\n",
              "    <tr>\n",
              "      <th>0</th>\n",
              "      <td>Mageuzi (kwa Kiingereza: \"reform\") ni mabadili...</td>\n",
              "    </tr>\n",
              "    <tr>\n",
              "      <th>1</th>\n",
              "      <td>Mageuko ya spishi</td>\n",
              "    </tr>\n",
              "    <tr>\n",
              "      <th>2</th>\n",
              "      <td>Fizikia (kutoka neno la Kigiriki φυσικός, phys...</td>\n",
              "    </tr>\n",
              "    <tr>\n",
              "      <th>3</th>\n",
              "      <td>Ni taaluma yenye kushughulika na maada na uhus...</td>\n",
              "    </tr>\n",
              "    <tr>\n",
              "      <th>4</th>\n",
              "      <td>Fizikia imetoa mchango mkubwa katika sayansi, ...</td>\n",
              "    </tr>\n",
              "  </tbody>\n",
              "</table>\n",
              "</div>\n",
              "      <button class=\"colab-df-convert\" onclick=\"convertToInteractive('df-f728dde3-fe0e-4fee-9c6c-d244ff2124c1')\"\n",
              "              title=\"Convert this dataframe to an interactive table.\"\n",
              "              style=\"display:none;\">\n",
              "        \n",
              "  <svg xmlns=\"http://www.w3.org/2000/svg\" height=\"24px\"viewBox=\"0 0 24 24\"\n",
              "       width=\"24px\">\n",
              "    <path d=\"M0 0h24v24H0V0z\" fill=\"none\"/>\n",
              "    <path d=\"M18.56 5.44l.94 2.06.94-2.06 2.06-.94-2.06-.94-.94-2.06-.94 2.06-2.06.94zm-11 1L8.5 8.5l.94-2.06 2.06-.94-2.06-.94L8.5 2.5l-.94 2.06-2.06.94zm10 10l.94 2.06.94-2.06 2.06-.94-2.06-.94-.94-2.06-.94 2.06-2.06.94z\"/><path d=\"M17.41 7.96l-1.37-1.37c-.4-.4-.92-.59-1.43-.59-.52 0-1.04.2-1.43.59L10.3 9.45l-7.72 7.72c-.78.78-.78 2.05 0 2.83L4 21.41c.39.39.9.59 1.41.59.51 0 1.02-.2 1.41-.59l7.78-7.78 2.81-2.81c.8-.78.8-2.07 0-2.86zM5.41 20L4 18.59l7.72-7.72 1.47 1.35L5.41 20z\"/>\n",
              "  </svg>\n",
              "      </button>\n",
              "      \n",
              "  <style>\n",
              "    .colab-df-container {\n",
              "      display:flex;\n",
              "      flex-wrap:wrap;\n",
              "      gap: 12px;\n",
              "    }\n",
              "\n",
              "    .colab-df-convert {\n",
              "      background-color: #E8F0FE;\n",
              "      border: none;\n",
              "      border-radius: 50%;\n",
              "      cursor: pointer;\n",
              "      display: none;\n",
              "      fill: #1967D2;\n",
              "      height: 32px;\n",
              "      padding: 0 0 0 0;\n",
              "      width: 32px;\n",
              "    }\n",
              "\n",
              "    .colab-df-convert:hover {\n",
              "      background-color: #E2EBFA;\n",
              "      box-shadow: 0px 1px 2px rgba(60, 64, 67, 0.3), 0px 1px 3px 1px rgba(60, 64, 67, 0.15);\n",
              "      fill: #174EA6;\n",
              "    }\n",
              "\n",
              "    [theme=dark] .colab-df-convert {\n",
              "      background-color: #3B4455;\n",
              "      fill: #D2E3FC;\n",
              "    }\n",
              "\n",
              "    [theme=dark] .colab-df-convert:hover {\n",
              "      background-color: #434B5C;\n",
              "      box-shadow: 0px 1px 3px 1px rgba(0, 0, 0, 0.15);\n",
              "      filter: drop-shadow(0px 1px 2px rgba(0, 0, 0, 0.3));\n",
              "      fill: #FFFFFF;\n",
              "    }\n",
              "  </style>\n",
              "\n",
              "      <script>\n",
              "        const buttonEl =\n",
              "          document.querySelector('#df-f728dde3-fe0e-4fee-9c6c-d244ff2124c1 button.colab-df-convert');\n",
              "        buttonEl.style.display =\n",
              "          google.colab.kernel.accessAllowed ? 'block' : 'none';\n",
              "\n",
              "        async function convertToInteractive(key) {\n",
              "          const element = document.querySelector('#df-f728dde3-fe0e-4fee-9c6c-d244ff2124c1');\n",
              "          const dataTable =\n",
              "            await google.colab.kernel.invokeFunction('convertToInteractive',\n",
              "                                                     [key], {});\n",
              "          if (!dataTable) return;\n",
              "\n",
              "          const docLinkHtml = 'Like what you see? Visit the ' +\n",
              "            '<a target=\"_blank\" href=https://colab.research.google.com/notebooks/data_table.ipynb>data table notebook</a>'\n",
              "            + ' to learn more about interactive tables.';\n",
              "          element.innerHTML = '';\n",
              "          dataTable['output_type'] = 'display_data';\n",
              "          await google.colab.output.renderOutput(dataTable, element);\n",
              "          const docLink = document.createElement('div');\n",
              "          docLink.innerHTML = docLinkHtml;\n",
              "          element.appendChild(docLink);\n",
              "        }\n",
              "      </script>\n",
              "    </div>\n",
              "  </div>\n",
              "  "
            ]
          },
          "metadata": {},
          "execution_count": 17
        }
      ]
    },
    {
      "cell_type": "code",
      "source": [
        "data_df.shape"
      ],
      "metadata": {
        "colab": {
          "base_uri": "https://localhost:8080/"
        },
        "id": "thlH55WqVct2",
        "outputId": "078f6e61-0ca8-4687-d56e-7cf251b41c7d"
      },
      "execution_count": 18,
      "outputs": [
        {
          "output_type": "execute_result",
          "data": {
            "text/plain": [
              "(13608, 1)"
            ]
          },
          "metadata": {},
          "execution_count": 18
        }
      ]
    },
    {
      "cell_type": "code",
      "source": [
        "data_df.to_excel(\"Language Dataset_Swahili.xlsx\")"
      ],
      "metadata": {
        "id": "mnbr2sQTTeHR"
      },
      "execution_count": 19,
      "outputs": []
    }
  ]
}